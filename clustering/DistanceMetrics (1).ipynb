{
  "cells": [
    {
      "cell_type": "markdown",
      "metadata": {
        "id": "view-in-github",
        "colab_type": "text"
      },
      "source": [
        "<a href=\"https://colab.research.google.com/github/diazgaby/computacional2/blob/main/DistanceMetrics.ipynb\" target=\"_parent\"><img src=\"https://colab.research.google.com/assets/colab-badge.svg\" alt=\"Open In Colab\"/></a>"
      ]
    },
    {
      "cell_type": "markdown",
      "metadata": {
        "id": "jqyf82iiNBho"
      },
      "source": [
        "<p style=\"text-align:center\">\n",
        "    <a href=\"https://skills.network/?utm_medium=Exinfluencer&utm_source=Exinfluencer&utm_content=000026UJ&utm_term=10006555&utm_id=NA-SkillsNetwork-Channel-SkillsNetworkCoursesIBMML0187ENSkillsNetwork31430127-2022-01-01\" target=\"_blank\">\n",
        "    <img src=\"https://cf-courses-data.s3.us.cloud-object-storage.appdomain.cloud/assets/logos/SN_web_lightmode.png\" width=\"200\" alt=\"Skills Network Logo\"  />\n",
        "    </a>\n",
        "</p>\n"
      ]
    },
    {
      "cell_type": "markdown",
      "metadata": {
        "id": "cP7Tc-yDNBh3"
      },
      "source": [
        "# **Distance Metrics**\n"
      ]
    },
    {
      "cell_type": "markdown",
      "metadata": {
        "id": "aPsM2VZgNBh5"
      },
      "source": [
        "Estimated time needed: **45** minutes\n"
      ]
    },
    {
      "cell_type": "markdown",
      "metadata": {
        "tags": [],
        "id": "S-MpWpeLNBh7"
      },
      "source": [
        "## Use cases of Distance Metrics\n",
        "\n",
        "*   **Classification**: KNN model uses a distance metric to find a data point's top k nearest neighbors.\n",
        "*   **Clustering**: K-Means algorithm assigns data points to the nearest centroids using a distance metric.\n",
        "*   **Natural Language Processing**: NLP uses the cosine similarity distance metric to filter out irrelevant documents from the corpus once the unstructured data is transformed into vector form.\n"
      ]
    },
    {
      "cell_type": "markdown",
      "metadata": {
        "id": "QZIpu_aiNBh9"
      },
      "source": [
        "## Why different distance metrics matter?\n",
        "\n",
        "There are many ways to define the distance between two objects. To give you a real-life example, suppose you want to go from one city to another on a map, there will be at least two different distances. One is the driving distance and the other could be the flying distance. Depending on how you choose to travel, one of the distances could make completely no sense to you.\n",
        "\n",
        "<img src=\"https://cf-courses-data.s3.us.cloud-object-storage.appdomain.cloud/IBM-ML0187EN-SkillsNetwork/labs/module%202/images/distance.jpg\" width=60%>\n",
        "\n",
        "Image from [PxHere](https://pxhere.com/en/photo/718584?utm_medium=Exinfluencer&utm_source=Exinfluencer&utm_content=000026UJ&utm_term=10006555&utm_id=NA-SkillsNetwork-Channel-SkillsNetworkCoursesIBMML0187ENSkillsNetwork31430127-2022-01-01)\n"
      ]
    },
    {
      "cell_type": "markdown",
      "metadata": {
        "id": "zOXStkKyNBh_"
      },
      "source": [
        "Same idea applies to Machine Learning, choosing the correct distance metric is critical to the performance of the downstream task.\n",
        "\n",
        "In this notebook, you will practice applying the distance metrics learned in this course. Using real-world data, you will analyze similarities and dissimilarities in data. You will also be able to understand how various algorithms such as DBSCAN are affected by different distance metrics.\n"
      ]
    },
    {
      "cell_type": "markdown",
      "metadata": {
        "id": "-NlwZDo_NBiB"
      },
      "source": [
        "## **Table of Contents**\n",
        "\n",
        "<!-- <a href=\"#Principle-Component-Analysis\">Principle Component Analysis</a> -->\n",
        "\n",
        "<ol>\n",
        "    <li><a href=\"https://#Objectives\">Objectives</a></li>\n",
        "    <li><a href=\"https://#Datasets\">Datasets</a></li>\n",
        "    <li>\n",
        "        <a href=\"https://#Setup\">Setup</a>\n",
        "        <ol>\n",
        "            <li><a href=\"https://#Installing-Required-Libraries\">Installing Required Libraries</a></li>\n",
        "            <li><a href=\"https://#Importing-Required-Libraries\">Importing Required Libraries</a></li>\n",
        "            <li><a href=\"https://#Defining-helper-functions\">Defining Helper Functions</a></li>\n",
        "        </ol>\n",
        "    </li>\n",
        "    <li>\n",
        "        <a href=\"https://#Euclidean-Distance\">Euclidean Distance</a>\n",
        "        <ol>\n",
        "            <li><a href=\"https://#euclidean_GE\">General Equation</a></li>\n",
        "        </ol>\n",
        "    </li>\n",
        "    <li>\n",
        "        <a href=\"https://#Manhattan-Distance\">Manhattan Distance</a>\n",
        "        <ol>\n",
        "            <li><a href=\"https://#manhattan_GE\">General Equation</a></li>\n",
        "        </ol>\n",
        "    </li>\n",
        "    <li>\n",
        "        <a href=\"https://#Cosine-Distance\">Cosine Distance</a>\n",
        "        <ol>\n",
        "            <li><a href=\"https://#cosine_GE\">General Equation</a></li>\n",
        "        </ol>\n",
        "    </li>\n",
        "    <li>\n",
        "        <a href=\"https://#Analyzing-Distance-Metrics-with-DBSCAN\">Analyzing Distance Metrics with DBSCAN</a>\n",
        "        <ol>\n",
        "            <li><a href=\"https://#DBSCAN-using-Euclidean:\">DBSCAN using Euclidean</a></li>\n",
        "        </ol>\n",
        "        <ol>\n",
        "            <li><a href=\"https://#DBSCAN-using-Manhattan:\">DBSCAN using Manhattan</a></li>\n",
        "        </ol>\n",
        "        <ol>\n",
        "            <li><a href=\"https://#DBSCAN-using-Cosine:\">DBSCAN using Cosine</a></li>\n",
        "        </ol>\n",
        "    </li>\n",
        "    <li>\n",
        "        <a href=\"https://#Jaccard-Distance\">Jaccard Distance</a>\n",
        "        <ol>\n",
        "            <li><a href=\"https://#jaccard_GE\">General Equation</a></li>\n",
        "        </ol>\n",
        "    </li>\n",
        "</ol>\n",
        "\n",
        "<a href=\"https://#Exercises\">Exercises</a>\n",
        "\n",
        "<ol>\n",
        "    <li><a href=\"https://#Exercise-1---Jaccard-distance\">Exercise 1 - Jaccard distance</a></li>\n",
        "    <li><a href=\"https://#Exercise-2---Euclidean-distance-and-manhattan-distance\">Exercise 2 - Euclidean distance and manhattan distance</a></li>\n",
        "    <li><a href=\"https://#Exercise-3---Cosine-distance\">Exercise 3 - Cosine Distance</a></li>\n",
        "    <li><a href=\"https://#Exercise-4---Using-sklearn.metrics.pairwise\">Exercise 4 - Using <code>sklearn.metrics.pairwise</code></a></li>\n",
        "</ol>\n"
      ]
    },
    {
      "cell_type": "markdown",
      "metadata": {
        "id": "VG8e0PvkNBiG"
      },
      "source": [
        "***\n"
      ]
    },
    {
      "cell_type": "markdown",
      "metadata": {
        "id": "B3e8Dx-BNBiI"
      },
      "source": [
        "## Objectives\n"
      ]
    },
    {
      "cell_type": "markdown",
      "metadata": {
        "id": "6yi8VWrLNBiK"
      },
      "source": [
        "After completing this lab you will be able to:\n"
      ]
    },
    {
      "cell_type": "markdown",
      "metadata": {
        "id": "GgmaoEHxNBiL"
      },
      "source": [
        "*   **Understand** the mathematics behind the euclidean, manhattan, cosine, and jaccard distance metrics.\n",
        "*   **Understand** the use cases of the covered distance metrics.\n"
      ]
    },
    {
      "cell_type": "markdown",
      "metadata": {
        "id": "ANpf-BpPNBiM"
      },
      "source": [
        "## Datasets\n",
        "\n",
        "Datasets for this lab are gathered from the [UCI Machine Learning Repository](https://archive.ics.uci.edu/?utm_medium=Exinfluencer&utm_source=Exinfluencer&utm_content=000026UJ&utm_term=10006555&utm_id=NA-SkillsNetwork-Channel-SkillsNetworkCoursesIBMML0187ENSkillsNetwork31430127-2022-01-01) under the MIT License.\n"
      ]
    },
    {
      "cell_type": "markdown",
      "metadata": {
        "id": "G0wmIXKWNBiO"
      },
      "source": [
        "## Setup\n"
      ]
    },
    {
      "cell_type": "markdown",
      "metadata": {
        "id": "9jyycOQKNBiP"
      },
      "source": [
        "For this lab, we will be using the following libraries:\n",
        "\n",
        "*   [`pandas`](https://pandas.pydata.org/?utm_medium=Exinfluencer&utm_source=Exinfluencer&utm_content=000026UJ&utm_term=10006555&utm_id=NA-SkillsNetwork-Channel-SkillsNetworkCoursesIBMML0187ENSkillsNetwork31430127-2022-01-01) for managing the data.\n",
        "*   [`numpy`](https://numpy.org/?utm_medium=Exinfluencer&utm_source=Exinfluencer&utm_content=000026UJ&utm_term=10006555&utm_id=NA-SkillsNetwork-Channel-SkillsNetworkCoursesIBMML0187ENSkillsNetwork31430127-2022-01-01) for mathematical operations.\n",
        "*   [`matplotlib`](https://matplotlib.org/?utm_medium=Exinfluencer&utm_source=Exinfluencer&utm_content=000026UJ&utm_term=10006555&utm_id=NA-SkillsNetwork-Channel-SkillsNetworkCoursesIBMML0187ENSkillsNetwork31430127-2022-01-01) for visualizing the data.\n",
        "*   [`scipy`](https://docs.scipy.org/doc/scipy/reference/?utm_medium=Exinfluencer&utm_source=Exinfluencer&utm_content=000026UJ&utm_term=10006555&utm_id=NA-SkillsNetwork-Channel-SkillsNetworkCoursesIBMML0187ENSkillsNetwork31430127-2022-01-01) for complex numerical operations.\n",
        "*   [`sklearn`](https://scikit-learn.org/stable/?utm_medium=Exinfluencer&utm_source=Exinfluencer&utm_content=000026UJ&utm_term=10006555&utm_id=NA-SkillsNetwork-Channel-SkillsNetworkCoursesIBMML0187ENSkillsNetwork31430127-2022-01-01) for machine learning and machine-learning-pipeline related functions.\n"
      ]
    },
    {
      "cell_type": "markdown",
      "metadata": {
        "id": "u_QZbuCWNBiQ"
      },
      "source": [
        "### Installing Required Libraries\n",
        "\n",
        "The following required modules are pre-installed in the Skills Network Labs environment. However if you run this notebook commands in a different Jupyter environment (e.g. Watson Studio or Ananconda) you will need to install these libraries by removing the `#` sign before `!mamba` in the code cell below.\n"
      ]
    },
    {
      "cell_type": "code",
      "execution_count": null,
      "metadata": {
        "id": "fQt4-wUnNBiS",
        "outputId": "aba363f8-f9bb-430f-b745-1137b7a48e1b"
      },
      "outputs": [
        {
          "name": "stdout",
          "output_type": "stream",
          "text": [
            "\n",
            "Usage:   \n",
            "  pip install [options] <requirement specifier> [package-index-options] ...\n",
            "  pip install [options] -r <requirements file> [package-index-options] ...\n",
            "  pip install [options] [-e] <vcs project url> ...\n",
            "  pip install [options] [-e] <local project path> ...\n",
            "  pip install [options] <archive url/path> ...\n",
            "\n",
            "no such option: -y\n"
          ]
        }
      ],
      "source": [
        " # All Libraries required for this lab are listed below. The libraries pre-installed on Skills Network Labs are commented.\n",
        "#!mamba install -qy pandas==1.3.4 numpy==1.21.4 matplotlib==3.5.0 scipy==1.7.3\n",
        "!pip install -qy scikit-learn==1.0.2\n",
        "# Note: If your environment doesn't support \"!mamba install\", use \"!pip install pandas==1.3.4 ... \""
      ]
    },
    {
      "cell_type": "markdown",
      "metadata": {
        "id": "SgeuoiylNBiZ"
      },
      "source": [
        "Run the following cell to ensure you are using the correct version of sklearn:\n"
      ]
    },
    {
      "cell_type": "markdown",
      "metadata": {
        "id": "Maorod3qNBib"
      },
      "source": [
        "### Importing Required Libraries\n"
      ]
    },
    {
      "cell_type": "code",
      "execution_count": 16,
      "metadata": {
        "id": "MuwrEDPvNBic"
      },
      "outputs": [],
      "source": [
        "# Surpress any warnings:\n",
        "def warn(*args, **kwargs):\n",
        "    pass\n",
        "import warnings\n",
        "warnings.warn = warn\n",
        "\n",
        "import pandas as pd\n",
        "import numpy as np\n",
        "import scipy\n",
        "from scipy.spatial.distance import euclidean, cityblock, cosine\n",
        "import sklearn.metrics.pairwise\n",
        "\n",
        "# Import matplotlib for 3d plotting:\n",
        "import matplotlib.pyplot as plt\n",
        "\n",
        "# Make matplotlib work in jupyter notebook\n",
        "%matplotlib inline"
      ]
    },
    {
      "cell_type": "markdown",
      "metadata": {
        "id": "yMyUbT5JNBid"
      },
      "source": [
        "### Defining Helper Functions\n",
        "\n",
        "In the section below, we will define helper functions that will help analyze different distance metrics\n",
        "\n",
        "**Average Distance**\n",
        "\n",
        "This function will return the average distance between two sets of data given our provided distance metric, i.e., each point in $X$ with each other point in $Y$. Refer to the image below:\n",
        "\n",
        "<img src=\"https://cf-courses-data.s3.us.cloud-object-storage.appdomain.cloud/IBM-ML0187EN-SkillsNetwork/labs/module%202/images/avg_distance.png\" width=30% height=auto/>\n"
      ]
    },
    {
      "cell_type": "code",
      "execution_count": 17,
      "metadata": {
        "id": "msrMw_3MNBif"
      },
      "outputs": [],
      "source": [
        "# This function will allow us to find the average distance between two sets of data\n",
        "def avg_distance(X1, X2, distance_func):\n",
        "    from sklearn.metrics import jaccard_score\n",
        "    #print(distance_func)\n",
        "    res = 0\n",
        "    for x1 in X1:\n",
        "        for x2 in X2:\n",
        "            if distance_func == jaccard_score: # the jaccard_score function only returns jaccard_similarity\n",
        "                res += 1 - distance_func(x1, x2)\n",
        "            else:\n",
        "                res += distance_func(x1, x2)\n",
        "    return res / (len(X1) * len(X2))"
      ]
    },
    {
      "cell_type": "markdown",
      "metadata": {
        "id": "lEQZk3TXNBij"
      },
      "source": [
        "**Pairwise Distance**\n",
        "\n",
        "This function will return the average pairwise distance between two sets of data. The distance for each row in $X$ from the corresponding row in $Y$. The number of rows of in the two sets of data should be equal. Refer to the image below:\n",
        "\n",
        "<img src=\"https://cf-courses-data.s3.us.cloud-object-storage.appdomain.cloud/IBM-ML0187EN-SkillsNetwork/labs/module%202/images/pairwise_distance.png\" width=30% height=auto />\n"
      ]
    },
    {
      "cell_type": "code",
      "execution_count": 18,
      "metadata": {
        "id": "xG_AMVQvNBik"
      },
      "outputs": [],
      "source": [
        "# This function will allow us to find the average pairwise distance\n",
        "def avg_pairwise_distance(X1, X2, distance_func):\n",
        "    return sum(map(distance_func, X1, X2)) / min(len(X1), len(X2))"
      ]
    },
    {
      "cell_type": "markdown",
      "metadata": {
        "id": "Qu7CbJTSNBil"
      },
      "source": [
        "## Load the datafile into `pandas.DataFrame`\n",
        "\n",
        "Before working with the data, it must be loaded into a `pandas.DataFrame`:\n"
      ]
    },
    {
      "cell_type": "code",
      "execution_count": 19,
      "metadata": {
        "colab": {
          "base_uri": "https://localhost:8080/",
          "height": 206
        },
        "id": "umbRBFLsNBim",
        "outputId": "750787c4-0466-4fb7-a701-a65628149728"
      },
      "outputs": [
        {
          "output_type": "execute_result",
          "data": {
            "text/plain": [
              "   sepal_length  sepal_width  petal_length  petal_width species\n",
              "0           5.1          3.5           1.4          0.2  setosa\n",
              "1           4.9          3.0           1.4          0.2  setosa\n",
              "2           4.7          3.2           1.3          0.2  setosa\n",
              "3           4.6          3.1           1.5          0.2  setosa\n",
              "4           5.0          3.6           1.4          0.2  setosa"
            ],
            "text/html": [
              "\n",
              "  <div id=\"df-fb9d89a9-33ae-4fa0-9339-547667b91141\">\n",
              "    <div class=\"colab-df-container\">\n",
              "      <div>\n",
              "<style scoped>\n",
              "    .dataframe tbody tr th:only-of-type {\n",
              "        vertical-align: middle;\n",
              "    }\n",
              "\n",
              "    .dataframe tbody tr th {\n",
              "        vertical-align: top;\n",
              "    }\n",
              "\n",
              "    .dataframe thead th {\n",
              "        text-align: right;\n",
              "    }\n",
              "</style>\n",
              "<table border=\"1\" class=\"dataframe\">\n",
              "  <thead>\n",
              "    <tr style=\"text-align: right;\">\n",
              "      <th></th>\n",
              "      <th>sepal_length</th>\n",
              "      <th>sepal_width</th>\n",
              "      <th>petal_length</th>\n",
              "      <th>petal_width</th>\n",
              "      <th>species</th>\n",
              "    </tr>\n",
              "  </thead>\n",
              "  <tbody>\n",
              "    <tr>\n",
              "      <th>0</th>\n",
              "      <td>5.1</td>\n",
              "      <td>3.5</td>\n",
              "      <td>1.4</td>\n",
              "      <td>0.2</td>\n",
              "      <td>setosa</td>\n",
              "    </tr>\n",
              "    <tr>\n",
              "      <th>1</th>\n",
              "      <td>4.9</td>\n",
              "      <td>3.0</td>\n",
              "      <td>1.4</td>\n",
              "      <td>0.2</td>\n",
              "      <td>setosa</td>\n",
              "    </tr>\n",
              "    <tr>\n",
              "      <th>2</th>\n",
              "      <td>4.7</td>\n",
              "      <td>3.2</td>\n",
              "      <td>1.3</td>\n",
              "      <td>0.2</td>\n",
              "      <td>setosa</td>\n",
              "    </tr>\n",
              "    <tr>\n",
              "      <th>3</th>\n",
              "      <td>4.6</td>\n",
              "      <td>3.1</td>\n",
              "      <td>1.5</td>\n",
              "      <td>0.2</td>\n",
              "      <td>setosa</td>\n",
              "    </tr>\n",
              "    <tr>\n",
              "      <th>4</th>\n",
              "      <td>5.0</td>\n",
              "      <td>3.6</td>\n",
              "      <td>1.4</td>\n",
              "      <td>0.2</td>\n",
              "      <td>setosa</td>\n",
              "    </tr>\n",
              "  </tbody>\n",
              "</table>\n",
              "</div>\n",
              "      <button class=\"colab-df-convert\" onclick=\"convertToInteractive('df-fb9d89a9-33ae-4fa0-9339-547667b91141')\"\n",
              "              title=\"Convert this dataframe to an interactive table.\"\n",
              "              style=\"display:none;\">\n",
              "        \n",
              "  <svg xmlns=\"http://www.w3.org/2000/svg\" height=\"24px\"viewBox=\"0 0 24 24\"\n",
              "       width=\"24px\">\n",
              "    <path d=\"M0 0h24v24H0V0z\" fill=\"none\"/>\n",
              "    <path d=\"M18.56 5.44l.94 2.06.94-2.06 2.06-.94-2.06-.94-.94-2.06-.94 2.06-2.06.94zm-11 1L8.5 8.5l.94-2.06 2.06-.94-2.06-.94L8.5 2.5l-.94 2.06-2.06.94zm10 10l.94 2.06.94-2.06 2.06-.94-2.06-.94-.94-2.06-.94 2.06-2.06.94z\"/><path d=\"M17.41 7.96l-1.37-1.37c-.4-.4-.92-.59-1.43-.59-.52 0-1.04.2-1.43.59L10.3 9.45l-7.72 7.72c-.78.78-.78 2.05 0 2.83L4 21.41c.39.39.9.59 1.41.59.51 0 1.02-.2 1.41-.59l7.78-7.78 2.81-2.81c.8-.78.8-2.07 0-2.86zM5.41 20L4 18.59l7.72-7.72 1.47 1.35L5.41 20z\"/>\n",
              "  </svg>\n",
              "      </button>\n",
              "      \n",
              "  <style>\n",
              "    .colab-df-container {\n",
              "      display:flex;\n",
              "      flex-wrap:wrap;\n",
              "      gap: 12px;\n",
              "    }\n",
              "\n",
              "    .colab-df-convert {\n",
              "      background-color: #E8F0FE;\n",
              "      border: none;\n",
              "      border-radius: 50%;\n",
              "      cursor: pointer;\n",
              "      display: none;\n",
              "      fill: #1967D2;\n",
              "      height: 32px;\n",
              "      padding: 0 0 0 0;\n",
              "      width: 32px;\n",
              "    }\n",
              "\n",
              "    .colab-df-convert:hover {\n",
              "      background-color: #E2EBFA;\n",
              "      box-shadow: 0px 1px 2px rgba(60, 64, 67, 0.3), 0px 1px 3px 1px rgba(60, 64, 67, 0.15);\n",
              "      fill: #174EA6;\n",
              "    }\n",
              "\n",
              "    [theme=dark] .colab-df-convert {\n",
              "      background-color: #3B4455;\n",
              "      fill: #D2E3FC;\n",
              "    }\n",
              "\n",
              "    [theme=dark] .colab-df-convert:hover {\n",
              "      background-color: #434B5C;\n",
              "      box-shadow: 0px 1px 3px 1px rgba(0, 0, 0, 0.15);\n",
              "      filter: drop-shadow(0px 1px 2px rgba(0, 0, 0, 0.3));\n",
              "      fill: #FFFFFF;\n",
              "    }\n",
              "  </style>\n",
              "\n",
              "      <script>\n",
              "        const buttonEl =\n",
              "          document.querySelector('#df-fb9d89a9-33ae-4fa0-9339-547667b91141 button.colab-df-convert');\n",
              "        buttonEl.style.display =\n",
              "          google.colab.kernel.accessAllowed ? 'block' : 'none';\n",
              "\n",
              "        async function convertToInteractive(key) {\n",
              "          const element = document.querySelector('#df-fb9d89a9-33ae-4fa0-9339-547667b91141');\n",
              "          const dataTable =\n",
              "            await google.colab.kernel.invokeFunction('convertToInteractive',\n",
              "                                                     [key], {});\n",
              "          if (!dataTable) return;\n",
              "\n",
              "          const docLinkHtml = 'Like what you see? Visit the ' +\n",
              "            '<a target=\"_blank\" href=https://colab.research.google.com/notebooks/data_table.ipynb>data table notebook</a>'\n",
              "            + ' to learn more about interactive tables.';\n",
              "          element.innerHTML = '';\n",
              "          dataTable['output_type'] = 'display_data';\n",
              "          await google.colab.output.renderOutput(dataTable, element);\n",
              "          const docLink = document.createElement('div');\n",
              "          docLink.innerHTML = docLinkHtml;\n",
              "          element.appendChild(docLink);\n",
              "        }\n",
              "      </script>\n",
              "    </div>\n",
              "  </div>\n",
              "  "
            ]
          },
          "metadata": {},
          "execution_count": 19
        }
      ],
      "source": [
        "df = pd.read_csv('https://cf-courses-data.s3.us.cloud-object-storage.appdomain.cloud/IBM-ML0187EN-SkillsNetwork/labs/module%202/iris.csv')\n",
        "df.head()"
      ]
    },
    {
      "cell_type": "markdown",
      "metadata": {
        "id": "XWMMZx2ENBin"
      },
      "source": [
        "For the purpose of this lab, we will not be using the `\"petal_width\"` column:\n"
      ]
    },
    {
      "cell_type": "code",
      "execution_count": 20,
      "metadata": {
        "colab": {
          "base_uri": "https://localhost:8080/",
          "height": 206
        },
        "id": "-BHCbn6rNBin",
        "outputId": "b0fb6159-da00-4832-ceb1-c2e61412f073"
      },
      "outputs": [
        {
          "output_type": "execute_result",
          "data": {
            "text/plain": [
              "   sepal_length  sepal_width  petal_length species\n",
              "0           5.1          3.5           1.4  setosa\n",
              "1           4.9          3.0           1.4  setosa\n",
              "2           4.7          3.2           1.3  setosa\n",
              "3           4.6          3.1           1.5  setosa\n",
              "4           5.0          3.6           1.4  setosa"
            ],
            "text/html": [
              "\n",
              "  <div id=\"df-af604135-4303-46c1-b74c-b04c27d74829\">\n",
              "    <div class=\"colab-df-container\">\n",
              "      <div>\n",
              "<style scoped>\n",
              "    .dataframe tbody tr th:only-of-type {\n",
              "        vertical-align: middle;\n",
              "    }\n",
              "\n",
              "    .dataframe tbody tr th {\n",
              "        vertical-align: top;\n",
              "    }\n",
              "\n",
              "    .dataframe thead th {\n",
              "        text-align: right;\n",
              "    }\n",
              "</style>\n",
              "<table border=\"1\" class=\"dataframe\">\n",
              "  <thead>\n",
              "    <tr style=\"text-align: right;\">\n",
              "      <th></th>\n",
              "      <th>sepal_length</th>\n",
              "      <th>sepal_width</th>\n",
              "      <th>petal_length</th>\n",
              "      <th>species</th>\n",
              "    </tr>\n",
              "  </thead>\n",
              "  <tbody>\n",
              "    <tr>\n",
              "      <th>0</th>\n",
              "      <td>5.1</td>\n",
              "      <td>3.5</td>\n",
              "      <td>1.4</td>\n",
              "      <td>setosa</td>\n",
              "    </tr>\n",
              "    <tr>\n",
              "      <th>1</th>\n",
              "      <td>4.9</td>\n",
              "      <td>3.0</td>\n",
              "      <td>1.4</td>\n",
              "      <td>setosa</td>\n",
              "    </tr>\n",
              "    <tr>\n",
              "      <th>2</th>\n",
              "      <td>4.7</td>\n",
              "      <td>3.2</td>\n",
              "      <td>1.3</td>\n",
              "      <td>setosa</td>\n",
              "    </tr>\n",
              "    <tr>\n",
              "      <th>3</th>\n",
              "      <td>4.6</td>\n",
              "      <td>3.1</td>\n",
              "      <td>1.5</td>\n",
              "      <td>setosa</td>\n",
              "    </tr>\n",
              "    <tr>\n",
              "      <th>4</th>\n",
              "      <td>5.0</td>\n",
              "      <td>3.6</td>\n",
              "      <td>1.4</td>\n",
              "      <td>setosa</td>\n",
              "    </tr>\n",
              "  </tbody>\n",
              "</table>\n",
              "</div>\n",
              "      <button class=\"colab-df-convert\" onclick=\"convertToInteractive('df-af604135-4303-46c1-b74c-b04c27d74829')\"\n",
              "              title=\"Convert this dataframe to an interactive table.\"\n",
              "              style=\"display:none;\">\n",
              "        \n",
              "  <svg xmlns=\"http://www.w3.org/2000/svg\" height=\"24px\"viewBox=\"0 0 24 24\"\n",
              "       width=\"24px\">\n",
              "    <path d=\"M0 0h24v24H0V0z\" fill=\"none\"/>\n",
              "    <path d=\"M18.56 5.44l.94 2.06.94-2.06 2.06-.94-2.06-.94-.94-2.06-.94 2.06-2.06.94zm-11 1L8.5 8.5l.94-2.06 2.06-.94-2.06-.94L8.5 2.5l-.94 2.06-2.06.94zm10 10l.94 2.06.94-2.06 2.06-.94-2.06-.94-.94-2.06-.94 2.06-2.06.94z\"/><path d=\"M17.41 7.96l-1.37-1.37c-.4-.4-.92-.59-1.43-.59-.52 0-1.04.2-1.43.59L10.3 9.45l-7.72 7.72c-.78.78-.78 2.05 0 2.83L4 21.41c.39.39.9.59 1.41.59.51 0 1.02-.2 1.41-.59l7.78-7.78 2.81-2.81c.8-.78.8-2.07 0-2.86zM5.41 20L4 18.59l7.72-7.72 1.47 1.35L5.41 20z\"/>\n",
              "  </svg>\n",
              "      </button>\n",
              "      \n",
              "  <style>\n",
              "    .colab-df-container {\n",
              "      display:flex;\n",
              "      flex-wrap:wrap;\n",
              "      gap: 12px;\n",
              "    }\n",
              "\n",
              "    .colab-df-convert {\n",
              "      background-color: #E8F0FE;\n",
              "      border: none;\n",
              "      border-radius: 50%;\n",
              "      cursor: pointer;\n",
              "      display: none;\n",
              "      fill: #1967D2;\n",
              "      height: 32px;\n",
              "      padding: 0 0 0 0;\n",
              "      width: 32px;\n",
              "    }\n",
              "\n",
              "    .colab-df-convert:hover {\n",
              "      background-color: #E2EBFA;\n",
              "      box-shadow: 0px 1px 2px rgba(60, 64, 67, 0.3), 0px 1px 3px 1px rgba(60, 64, 67, 0.15);\n",
              "      fill: #174EA6;\n",
              "    }\n",
              "\n",
              "    [theme=dark] .colab-df-convert {\n",
              "      background-color: #3B4455;\n",
              "      fill: #D2E3FC;\n",
              "    }\n",
              "\n",
              "    [theme=dark] .colab-df-convert:hover {\n",
              "      background-color: #434B5C;\n",
              "      box-shadow: 0px 1px 3px 1px rgba(0, 0, 0, 0.15);\n",
              "      filter: drop-shadow(0px 1px 2px rgba(0, 0, 0, 0.3));\n",
              "      fill: #FFFFFF;\n",
              "    }\n",
              "  </style>\n",
              "\n",
              "      <script>\n",
              "        const buttonEl =\n",
              "          document.querySelector('#df-af604135-4303-46c1-b74c-b04c27d74829 button.colab-df-convert');\n",
              "        buttonEl.style.display =\n",
              "          google.colab.kernel.accessAllowed ? 'block' : 'none';\n",
              "\n",
              "        async function convertToInteractive(key) {\n",
              "          const element = document.querySelector('#df-af604135-4303-46c1-b74c-b04c27d74829');\n",
              "          const dataTable =\n",
              "            await google.colab.kernel.invokeFunction('convertToInteractive',\n",
              "                                                     [key], {});\n",
              "          if (!dataTable) return;\n",
              "\n",
              "          const docLinkHtml = 'Like what you see? Visit the ' +\n",
              "            '<a target=\"_blank\" href=https://colab.research.google.com/notebooks/data_table.ipynb>data table notebook</a>'\n",
              "            + ' to learn more about interactive tables.';\n",
              "          element.innerHTML = '';\n",
              "          dataTable['output_type'] = 'display_data';\n",
              "          await google.colab.output.renderOutput(dataTable, element);\n",
              "          const docLink = document.createElement('div');\n",
              "          docLink.innerHTML = docLinkHtml;\n",
              "          element.appendChild(docLink);\n",
              "        }\n",
              "      </script>\n",
              "    </div>\n",
              "  </div>\n",
              "  "
            ]
          },
          "metadata": {},
          "execution_count": 20
        }
      ],
      "source": [
        "df.drop(['petal_width'], axis=1, inplace=True)\n",
        "df.head()"
      ]
    },
    {
      "cell_type": "markdown",
      "metadata": {
        "id": "X_Ikh0FUNBip"
      },
      "source": [
        "Let's see what the different `\"species\"` types are in the dataset:\n"
      ]
    },
    {
      "cell_type": "code",
      "execution_count": 21,
      "metadata": {
        "colab": {
          "base_uri": "https://localhost:8080/"
        },
        "id": "bRlhB1EcNBiq",
        "outputId": "f2837c79-b586-41af-df0d-5eff9c160524"
      },
      "outputs": [
        {
          "output_type": "stream",
          "name": "stdout",
          "text": [
            "['setosa' 'versicolor' 'virginica']\n"
          ]
        }
      ],
      "source": [
        "species = df['species'].unique()\n",
        "print(species)"
      ]
    },
    {
      "cell_type": "markdown",
      "metadata": {
        "id": "01lcq-d2NBis"
      },
      "source": [
        "Let's view the three species of irises' data in 3D using `matplotlib`\n"
      ]
    },
    {
      "cell_type": "code",
      "execution_count": 22,
      "metadata": {
        "colab": {
          "base_uri": "https://localhost:8080/",
          "height": 417
        },
        "id": "2p4jkN1-NBit",
        "outputId": "e72a7f76-230b-4ffd-93f0-e614a888d54c"
      },
      "outputs": [
        {
          "output_type": "display_data",
          "data": {
            "text/plain": [
              "<Figure size 640x480 with 1 Axes>"
            ],
            "image/png": "[encoded data removed]"
          },
          "metadata": {}
        }
      ],
      "source": [
        "attrs = ['sepal_length', 'sepal_width', 'petal_length']\n",
        "markers = ['o', 'v', '^']\n",
        "fig = plt.figure()\n",
        "ax = fig.add_subplot(projection='3d')\n",
        "for specie, marker in zip(species, markers):\n",
        "    specie_data = df.loc[df['species'] == specie][attrs]\n",
        "    xs, ys, zs = [specie_data[attr] for attr in attrs]\n",
        "    ax.scatter(xs, ys, zs, marker=marker)\n",
        "plt.show()"
      ]
    },
    {
      "cell_type": "markdown",
      "metadata": {
        "id": "vKplTeYsNBiu"
      },
      "source": [
        "Create variables for the species' data, as `np.ndarray`s:\n"
      ]
    },
    {
      "cell_type": "code",
      "execution_count": null,
      "metadata": {
        "id": "yRjMnoncNBix"
      },
      "outputs": [],
      "source": [
        "setosa_data = df.loc[df['species'] == 'setosa'][attrs].to_numpy()\n",
        "versicolor_data = df.loc[df['species'] == 'versicolor'][attrs].to_numpy()\n",
        "virginica_data = df.loc[df['species'] == 'virginica'][attrs].to_numpy()"
      ]
    },
    {
      "cell_type": "markdown",
      "metadata": {
        "id": "OSuua45QNBiy"
      },
      "source": [
        "In a the NumPy array, each point is a row and  each column is a dimension, we can see this by using <code>shape</code>:\n"
      ]
    },
    {
      "cell_type": "code",
      "execution_count": null,
      "metadata": {
        "id": "Xc5aiAEINBiz",
        "outputId": "350d679f-80d1-46e1-8f51-aac3f9c7b46b"
      },
      "outputs": [
        {
          "data": {
            "text/plain": [
              "(50, 3)"
            ]
          },
          "execution_count": 16,
          "metadata": {},
          "output_type": "execute_result"
        }
      ],
      "source": [
        "setosa_data.shape"
      ]
    },
    {
      "cell_type": "markdown",
      "metadata": {
        "id": "jjbAg7wsNBi0"
      },
      "source": [
        "## Euclidean Distance\n",
        "\n",
        "<img src=\"https://cf-courses-data.s3.us.cloud-object-storage.appdomain.cloud/IBM-ML0187EN-SkillsNetwork/labs/module%202/images/euclidean.png\" width=30% height=auto/>\n"
      ]
    },
    {
      "cell_type": "markdown",
      "metadata": {
        "id": "UQByDIC0NBi1"
      },
      "source": [
        "In this task, you will learn and practice applying Euclidean distance.\n",
        "\n",
        "Euclidean distance is simply the physical distance between two points.\n",
        "\n",
        "*Euclidean distance is useful when physical distance matters most.*\n",
        "\n",
        "We know from high school math the distance between two points **on a plane (2D)** $(x_1, y_1), (x_2, y_2)$ is:\n",
        "\n",
        "$\\sqrt{(x_2-x_1)^2 + (y_2-y_1)^2}$\n",
        "\n",
        "The distance between two points in **3D** $(x_1, y_1, z_1), (x_2, y_2, z_2)$ is:\n",
        "\n",
        "$\\sqrt{(x_2-x_1)^2 + (y_2-y_1)^2 + (z_2-z_1)^2}$\n",
        "\n",
        "### <a id='euclidean_GE'></a> General Equation\n",
        "\n",
        "The **general equation for the euclidean distance** between two points in n-dimentions $\\boldsymbol{a} = [a_1, a_2, \\dots, a_n], \\boldsymbol{b}=[b_1, b_2, \\dots, b_n]$ is:\n",
        "\n",
        "$$\\sqrt{\\sum_{i=1}^{n} (b_i-a_i)^2}$$\n",
        "\n",
        "Or for those inclined to Linear Algebra:\n",
        "\n",
        "$$|| \\boldsymbol{b} - \\boldsymbol{a} ||$$\n"
      ]
    },
    {
      "cell_type": "markdown",
      "metadata": {
        "id": "nWfRYvaYNBi3"
      },
      "source": [
        "We can use the function `euclidean` from `scipy.spatial.distance` to compute the euclidean distance between two points.\n"
      ]
    },
    {
      "cell_type": "code",
      "execution_count": null,
      "metadata": {
        "id": "fmFkVyBnNBi4",
        "outputId": "871af087-bb8e-401a-b67f-b9fa63a35e5c"
      },
      "outputs": [
        {
          "data": {
            "text/plain": [
              "5.0"
            ]
          },
          "execution_count": 18,
          "metadata": {},
          "output_type": "execute_result"
        }
      ],
      "source": [
        "euclidean([0, 0], [3, 4])"
      ]
    },
    {
      "cell_type": "markdown",
      "metadata": {
        "tags": [],
        "id": "8o-TgpyqNBi5"
      },
      "source": [
        "#### Let's find the average *euclidean* distance between the data of different species of irises\n",
        "\n",
        "Average *euclidean* distance between **setosa** and **setosa**:\n"
      ]
    },
    {
      "cell_type": "markdown",
      "metadata": {
        "id": "n7OY9mjTNBi6"
      },
      "source": [
        "Average *euclidean* distance between **setosa** and **versicolor**:\n"
      ]
    },
    {
      "cell_type": "code",
      "execution_count": null,
      "metadata": {
        "id": "3fRH_6byNBi7",
        "outputId": "13df3484-0859-4ab1-d627-316caa1f443f"
      },
      "outputs": [
        {
          "data": {
            "text/plain": [
              "3.1110307382429827"
            ]
          },
          "execution_count": 19,
          "metadata": {},
          "output_type": "execute_result"
        }
      ],
      "source": [
        "avg_distance(setosa_data, versicolor_data, euclidean)"
      ]
    },
    {
      "cell_type": "markdown",
      "metadata": {
        "id": "IpsmrpopNBi8"
      },
      "source": [
        "Average *euclidean* distance between **setosa** and **virginica**:\n"
      ]
    },
    {
      "cell_type": "code",
      "execution_count": null,
      "metadata": {
        "id": "9BHGPZTSNBi9",
        "outputId": "d1614dbd-3391-481a-c88b-bf8f72bdff04"
      },
      "outputs": [
        {
          "data": {
            "text/plain": [
              "4.470017704302476"
            ]
          },
          "execution_count": 20,
          "metadata": {},
          "output_type": "execute_result"
        }
      ],
      "source": [
        "avg_distance(setosa_data, virginica_data, euclidean)"
      ]
    },
    {
      "cell_type": "markdown",
      "metadata": {
        "id": "pKv2g9SMNBi_"
      },
      "source": [
        "We can also determine the  euclidean distances between two points using <code>paired_euclidean_distances</code> from <code>sklearn.metrics.pairwise</code>:\n"
      ]
    },
    {
      "cell_type": "code",
      "execution_count": null,
      "metadata": {
        "id": "2PFLO2IVNBjA"
      },
      "outputs": [],
      "source": [
        "from sklearn.metrics.pairwise import paired_euclidean_distances"
      ]
    },
    {
      "cell_type": "markdown",
      "metadata": {
        "id": "Ueh8-FZKNBjC"
      },
      "source": [
        "The input must be a numpy array where each point is a row:\n"
      ]
    },
    {
      "cell_type": "code",
      "execution_count": null,
      "metadata": {
        "id": "QXvEMi5dNBjD",
        "outputId": "9e43d4b4-9928-4c00-efac-6a751e46c1f1"
      },
      "outputs": [
        {
          "data": {
            "text/plain": [
              "5.0"
            ]
          },
          "execution_count": 22,
          "metadata": {},
          "output_type": "execute_result"
        }
      ],
      "source": [
        "X = np.array([[0, 0]], dtype=float)\n",
        "Y = np.array([[3, 4]], dtype=float)\n",
        "paired_euclidean_distances(X, Y).mean()"
      ]
    },
    {
      "cell_type": "markdown",
      "metadata": {
        "id": "svATCtigNBjE"
      },
      "source": [
        "We apply our own version of the function\n"
      ]
    },
    {
      "cell_type": "code",
      "execution_count": null,
      "metadata": {
        "id": "G2AwO_YxNBjE",
        "outputId": "7d19cc25-7f4e-4bfd-801c-32b6c2d156c1"
      },
      "outputs": [
        {
          "data": {
            "text/plain": [
              "5.0"
            ]
          },
          "execution_count": 23,
          "metadata": {},
          "output_type": "execute_result"
        }
      ],
      "source": [
        "avg_pairwise_distance(X, Y, euclidean)"
      ]
    },
    {
      "cell_type": "markdown",
      "metadata": {
        "id": "0wRe2pxvNBjF"
      },
      "source": [
        "If we have 2 MxN arrays, where each row is one of M points and each column is N dimensions in two arrays:\n"
      ]
    },
    {
      "cell_type": "code",
      "execution_count": null,
      "metadata": {
        "id": "68WCd_e_NBjG",
        "outputId": "b475a95d-39e9-4099-fbcc-c926229df628"
      },
      "outputs": [
        {
          "name": "stdout",
          "output_type": "stream",
          "text": [
            "50 points and each column is 3 dimensions\n"
          ]
        }
      ],
      "source": [
        "M, N = setosa_data.shape\n",
        "print(f'{M} points and each column is {N} dimensions')"
      ]
    },
    {
      "cell_type": "markdown",
      "metadata": {
        "id": "Xueb_SeCNBjH"
      },
      "source": [
        "As above, we can calculate the distance between each array, then average the distance as follows.\n",
        "First, we calculate the distance between each row:\n"
      ]
    },
    {
      "cell_type": "code",
      "execution_count": null,
      "metadata": {
        "id": "OTlLZXs8NBjI",
        "outputId": "37240d32-2a04-4d0f-8e6c-0debe662923a"
      },
      "outputs": [
        {
          "data": {
            "text/plain": [
              "array([3.81968585, 3.44963766, 4.22018957, 2.77488739, 3.62353419,\n",
              "       3.02324329, 3.71348893, 2.06155281, 3.88329757, 2.45153013,\n",
              "       2.65518361, 2.85131549, 2.97321375, 4.02616443, 2.64764046,\n",
              "       3.33166625, 3.33016516, 2.90172363, 3.26343377, 2.77488739,\n",
              "       3.14642654, 2.83901391, 4.39431451, 3.20156212, 2.92745623,\n",
              "       3.2249031 , 3.72021505, 3.84057287, 3.24037035, 2.22934968,\n",
              "       2.41246762, 2.41867732, 2.84253408, 4.02367991, 3.04302481,\n",
              "       3.45398321, 3.62767143, 3.318132  , 3.04630924, 2.68700577,\n",
              "       3.26649659, 3.73363094, 3.1       , 2.0808652 , 2.59807621,\n",
              "       2.94108823, 2.81602557, 3.32565783, 1.93132079, 2.83372546])"
            ]
          },
          "execution_count": 24,
          "metadata": {},
          "output_type": "execute_result"
        }
      ],
      "source": [
        "row_dist=paired_euclidean_distances(setosa_data, versicolor_data)\n",
        "row_dist"
      ]
    },
    {
      "cell_type": "markdown",
      "metadata": {
        "id": "Hb8l56SZNBjJ"
      },
      "source": [
        "Then, we find the average value:\n"
      ]
    },
    {
      "cell_type": "code",
      "execution_count": null,
      "metadata": {
        "id": "6pSE7wZaNBjK",
        "outputId": "7efd784d-a698-4048-e825-ce08c91ac446"
      },
      "outputs": [
        {
          "data": {
            "text/plain": [
              "3.1208199582684055"
            ]
          },
          "execution_count": 28,
          "metadata": {},
          "output_type": "execute_result"
        }
      ],
      "source": [
        "row_dist.mean()"
      ]
    },
    {
      "cell_type": "markdown",
      "metadata": {
        "id": "Bh58du32NBjL"
      },
      "source": [
        "We repeat the process:\n"
      ]
    },
    {
      "cell_type": "code",
      "execution_count": null,
      "metadata": {
        "id": "fQSSyZNyNBjM",
        "outputId": "c9116d2c-ecf2-462a-d93a-33551bedb592"
      },
      "outputs": [
        {
          "data": {
            "text/plain": [
              "4.467297089536804"
            ]
          },
          "execution_count": 29,
          "metadata": {},
          "output_type": "execute_result"
        }
      ],
      "source": [
        "paired_euclidean_distances(setosa_data, virginica_data).mean()"
      ]
    },
    {
      "cell_type": "markdown",
      "metadata": {
        "id": "LKA4hQDzNBjM"
      },
      "source": [
        "Now, applying our own function:\n"
      ]
    },
    {
      "cell_type": "code",
      "execution_count": null,
      "metadata": {
        "id": "5lTzIwySNBjN",
        "outputId": "468d2ff5-ab51-43de-ab20-d2703e070e4d"
      },
      "outputs": [
        {
          "data": {
            "text/plain": [
              "4.467297089536803"
            ]
          },
          "execution_count": 30,
          "metadata": {},
          "output_type": "execute_result"
        }
      ],
      "source": [
        "avg_pairwise_distance(setosa_data, virginica_data, euclidean)"
      ]
    },
    {
      "cell_type": "markdown",
      "metadata": {
        "id": "-GxgpxqqNBjO"
      },
      "source": [
        "## Manhattan Distance\n",
        "\n",
        "<img src=\"https://cf-courses-data.s3.us.cloud-object-storage.appdomain.cloud/IBM-ML0187EN-SkillsNetwork/labs/module%202/images/manhattan.png\" width=30% height=auto/>\n"
      ]
    },
    {
      "cell_type": "markdown",
      "metadata": {
        "id": "I2QPMcuJNBjP"
      },
      "source": [
        "In this task, you will learn and practice applying Manhattan distance, sometimes called the  $L1$ norm and \"cityblock\" distance. The  Manhattan distance is even simpler than euclidean distance.\n",
        "\n",
        "It can be described as the sum of the absolute value of the difference in each dimention of two points.\n",
        "\n",
        "*Manhattan distance can be preferrable to euclidean distance in high-dimentional situations.*\n",
        "\n",
        "The Manhattan distance between two points **on a plane (2D)** $(x_1, y_1), (x_2, y_2)$ is:\n",
        "\n",
        "$|x_2 - x_1| + |y_2-y_1|$\n",
        "\n",
        "### <a id='manhattan_GE'></a> General Equation\n",
        "\n",
        "The **general equation for the manhattan distance** between two points in N-dimentions $\\boldsymbol{a}=[a_1, a_2, \\dots, a_n], \\boldsymbol{b}=[b_1, b_2, \\dots, b_n]$ is:\n",
        "\n",
        "$$ \\sum_{i=1}^{n} |b_i-a_i| $$\n"
      ]
    },
    {
      "cell_type": "markdown",
      "metadata": {
        "id": "lWnvYQ-HNBjQ"
      },
      "source": [
        "We can use the function `cityblock` from `scipy.spatial.distance` to compute the manhattan distance between two points.\n"
      ]
    },
    {
      "cell_type": "code",
      "execution_count": null,
      "metadata": {
        "id": "Or26Jl0DNBjR",
        "outputId": "2430abeb-ada3-4fa6-b077-47cba5661780"
      },
      "outputs": [
        {
          "data": {
            "text/plain": [
              "4"
            ]
          },
          "execution_count": 31,
          "metadata": {},
          "output_type": "execute_result"
        }
      ],
      "source": [
        "cityblock([1, 1], [-2, 2])"
      ]
    },
    {
      "cell_type": "markdown",
      "metadata": {
        "id": "7JxuK1i2NBjU"
      },
      "source": [
        "#### Let's find the average *manhattan* distance between the data of different species of irises\n",
        "\n",
        "Average *manhattan* distance between **setosa** and **setosa**:\n"
      ]
    },
    {
      "cell_type": "code",
      "execution_count": null,
      "metadata": {
        "id": "WQ30x0S8NBjV",
        "outputId": "e9c78e5f-77bc-4375-c64b-1aa17d7dd438"
      },
      "outputs": [
        {
          "data": {
            "text/plain": [
              "0.9921600000000026"
            ]
          },
          "execution_count": 32,
          "metadata": {},
          "output_type": "execute_result"
        }
      ],
      "source": [
        "avg_distance(setosa_data, setosa_data, cityblock)"
      ]
    },
    {
      "cell_type": "markdown",
      "metadata": {
        "id": "VGRpSLq0NBjW"
      },
      "source": [
        "Average *manhattan* distance between **setosa** and **versicolor**:\n"
      ]
    },
    {
      "cell_type": "code",
      "execution_count": null,
      "metadata": {
        "id": "UrZ6wYBxNBjX",
        "outputId": "a4aa22a3-603b-4f15-df8c-ff4ad0b86f2b"
      },
      "outputs": [
        {
          "data": {
            "text/plain": [
              "4.439119999999999"
            ]
          },
          "execution_count": 33,
          "metadata": {},
          "output_type": "execute_result"
        }
      ],
      "source": [
        "avg_distance(setosa_data, versicolor_data, cityblock)"
      ]
    },
    {
      "cell_type": "markdown",
      "metadata": {
        "id": "D_JcKRHcNBjY"
      },
      "source": [
        "Average *manhattan* distance between **setosa** and **virginica**:\n"
      ]
    },
    {
      "cell_type": "code",
      "execution_count": null,
      "metadata": {
        "id": "RRqkcAVqNBjY",
        "outputId": "f8937d6c-7047-4198-a10b-543596e0af04"
      },
      "outputs": [
        {
          "data": {
            "text/plain": [
              "6.219039999999988"
            ]
          },
          "execution_count": 34,
          "metadata": {},
          "output_type": "execute_result"
        }
      ],
      "source": [
        "avg_distance(setosa_data, virginica_data, cityblock)"
      ]
    },
    {
      "cell_type": "markdown",
      "metadata": {
        "id": "JBNSsX9vNBjZ"
      },
      "source": [
        "We can also determine the pairwise Manhattan Distances between two points using <code>manhattan_distances</code> from <code>sklearn.metrics.pairwise</code>:\n"
      ]
    },
    {
      "cell_type": "code",
      "execution_count": null,
      "metadata": {
        "id": "biT330ZuNBja"
      },
      "outputs": [],
      "source": [
        "from sklearn.metrics.pairwise import manhattan_distances"
      ]
    },
    {
      "cell_type": "code",
      "execution_count": null,
      "metadata": {
        "id": "8fW-4bteNBja"
      },
      "outputs": [],
      "source": [
        "X = np.array([[1, 1]])\n",
        "\n",
        "Y = np.array([[-2, 2]])"
      ]
    },
    {
      "cell_type": "code",
      "execution_count": null,
      "metadata": {
        "id": "9oVBOTDYNBjb",
        "outputId": "e500769d-589c-4908-90ef-d9b0c1b7d043"
      },
      "outputs": [
        {
          "data": {
            "text/plain": [
              "array([[4.]])"
            ]
          },
          "execution_count": 37,
          "metadata": {},
          "output_type": "execute_result"
        }
      ],
      "source": [
        "manhattan_distances(X, Y)"
      ]
    },
    {
      "cell_type": "markdown",
      "metadata": {
        "id": "hryHbS53NBjc"
      },
      "source": [
        "## Cosine Distance\n",
        "\n",
        "<img src=\"https://cf-courses-data.s3.us.cloud-object-storage.appdomain.cloud/IBM-ML0187EN-SkillsNetwork/labs/module%202/images/cosine.png\" width=30% height=auto/>\n"
      ]
    },
    {
      "cell_type": "markdown",
      "metadata": {
        "id": "k8bVlzhRNBjd"
      },
      "source": [
        "In this task, you will learn and practice applying Cosine distance.\n",
        "\n",
        "The cosine distance between two points can be thought of as one minus the cosine of the angle between them with respect to the origin.\n",
        "\n",
        "As such, it has a value in the range $[0, 2]$ where:\n",
        "\n",
        "*   $0$ means \"in the same direction\"\n",
        "*   $1$ means \"perpendicular\"\n",
        "*   $2$ means \"in the opposite direction.\"\n",
        "\n",
        "So, **the lower the cosine distance, the more-similar two points are (in direction)**.\n",
        "\n",
        "*Cosine distance is useful when \"direction\" matters more than euclidean distance*\n",
        "\n",
        "The cosine distance between two points **on a plane (2D)** $(x_1, y_1), (x_2, y_2)$ is:\n",
        "\n",
        "$$1 - \\frac{x_1 \\cdot x_2 + y_1 \\cdot y_2}{\\sqrt{x_1^2 + y_1^2} + \\sqrt{x_2^2 + y_2^2}}$$\n",
        "\n",
        "### <a id='cosine_GE'></a> General Equation\n",
        "\n",
        "The **general equation for the cosine distance** between two points in N-dimentions $\\boldsymbol{a} = [a_1, a_2, \\dots, a_n], \\boldsymbol{b} = [b_1, b_2, \\dots, b_n]$ is:\n",
        "\n",
        "$$1 - \\frac{\\sum_{i=1}^{n} a_i \\cdot b_i}{\\sqrt{\\sum_{i=1}^{n} a_i^2} + \\sqrt{\\sum_{i=1}^{n} b_i^2}}$$\n",
        "\n",
        "Or for those inclined to linear algebra:\n",
        "\n",
        "$$1 - \\frac{\\boldsymbol{a} \\cdot \\boldsymbol{b}}{||\\boldsymbol{a}|| \\cdot ||\\boldsymbol{b}||}$$\n"
      ]
    },
    {
      "cell_type": "markdown",
      "metadata": {
        "id": "4YW-ow4cNBje"
      },
      "source": [
        "We can use the function `cosine` from `scipy.spatial.distance` to compute the cosine distance between two points.\n"
      ]
    },
    {
      "cell_type": "code",
      "execution_count": 23,
      "metadata": {
        "colab": {
          "base_uri": "https://localhost:8080/"
        },
        "id": "lQ1S6wepNBjf",
        "outputId": "884f86a2-ec5b-4051-e01a-7cd573f340e6"
      },
      "outputs": [
        {
          "output_type": "execute_result",
          "data": {
            "text/plain": [
              "2.0"
            ]
          },
          "metadata": {},
          "execution_count": 23
        }
      ],
      "source": [
        "cosine([1, 1], [-1, -1])"
      ]
    },
    {
      "cell_type": "markdown",
      "metadata": {
        "id": "J3PSZG__NBjf"
      },
      "source": [
        "For this exercise, we will use a different dataset.\n",
        "\n",
        "Download the dataset `\"auto-mpg.data\"`, which contains information about cars from 1970 to 1982:\n"
      ]
    },
    {
      "cell_type": "code",
      "execution_count": 24,
      "metadata": {
        "colab": {
          "base_uri": "https://localhost:8080/",
          "height": 206
        },
        "id": "5Nta3Jo3NBjg",
        "outputId": "6bc7497a-bcb1-4c45-f886-02b93c926f82"
      },
      "outputs": [
        {
          "output_type": "execute_result",
          "data": {
            "text/plain": [
              "    mpg  cylinders  displacement horsepower  weight  acceleration  model_year  \\\n",
              "0  18.0          8         307.0      130.0  3504.0          12.0          70   \n",
              "1  15.0          8         350.0      165.0  3693.0          11.5          70   \n",
              "2  18.0          8         318.0      150.0  3436.0          11.0          70   \n",
              "3  16.0          8         304.0      150.0  3433.0          12.0          70   \n",
              "4  17.0          8         302.0      140.0  3449.0          10.5          70   \n",
              "\n",
              "   origin                   car_name  \n",
              "0       1  chevrolet chevelle malibu  \n",
              "1       1          buick skylark 320  \n",
              "2       1         plymouth satellite  \n",
              "3       1              amc rebel sst  \n",
              "4       1                ford torino  "
            ],
            "text/html": [
              "\n",
              "  <div id=\"df-2f7cba8f-c29c-4816-8bd4-3d72bf0b6691\">\n",
              "    <div class=\"colab-df-container\">\n",
              "      <div>\n",
              "<style scoped>\n",
              "    .dataframe tbody tr th:only-of-type {\n",
              "        vertical-align: middle;\n",
              "    }\n",
              "\n",
              "    .dataframe tbody tr th {\n",
              "        vertical-align: top;\n",
              "    }\n",
              "\n",
              "    .dataframe thead th {\n",
              "        text-align: right;\n",
              "    }\n",
              "</style>\n",
              "<table border=\"1\" class=\"dataframe\">\n",
              "  <thead>\n",
              "    <tr style=\"text-align: right;\">\n",
              "      <th></th>\n",
              "      <th>mpg</th>\n",
              "      <th>cylinders</th>\n",
              "      <th>displacement</th>\n",
              "      <th>horsepower</th>\n",
              "      <th>weight</th>\n",
              "      <th>acceleration</th>\n",
              "      <th>model_year</th>\n",
              "      <th>origin</th>\n",
              "      <th>car_name</th>\n",
              "    </tr>\n",
              "  </thead>\n",
              "  <tbody>\n",
              "    <tr>\n",
              "      <th>0</th>\n",
              "      <td>18.0</td>\n",
              "      <td>8</td>\n",
              "      <td>307.0</td>\n",
              "      <td>130.0</td>\n",
              "      <td>3504.0</td>\n",
              "      <td>12.0</td>\n",
              "      <td>70</td>\n",
              "      <td>1</td>\n",
              "      <td>chevrolet chevelle malibu</td>\n",
              "    </tr>\n",
              "    <tr>\n",
              "      <th>1</th>\n",
              "      <td>15.0</td>\n",
              "      <td>8</td>\n",
              "      <td>350.0</td>\n",
              "      <td>165.0</td>\n",
              "      <td>3693.0</td>\n",
              "      <td>11.5</td>\n",
              "      <td>70</td>\n",
              "      <td>1</td>\n",
              "      <td>buick skylark 320</td>\n",
              "    </tr>\n",
              "    <tr>\n",
              "      <th>2</th>\n",
              "      <td>18.0</td>\n",
              "      <td>8</td>\n",
              "      <td>318.0</td>\n",
              "      <td>150.0</td>\n",
              "      <td>3436.0</td>\n",
              "      <td>11.0</td>\n",
              "      <td>70</td>\n",
              "      <td>1</td>\n",
              "      <td>plymouth satellite</td>\n",
              "    </tr>\n",
              "    <tr>\n",
              "      <th>3</th>\n",
              "      <td>16.0</td>\n",
              "      <td>8</td>\n",
              "      <td>304.0</td>\n",
              "      <td>150.0</td>\n",
              "      <td>3433.0</td>\n",
              "      <td>12.0</td>\n",
              "      <td>70</td>\n",
              "      <td>1</td>\n",
              "      <td>amc rebel sst</td>\n",
              "    </tr>\n",
              "    <tr>\n",
              "      <th>4</th>\n",
              "      <td>17.0</td>\n",
              "      <td>8</td>\n",
              "      <td>302.0</td>\n",
              "      <td>140.0</td>\n",
              "      <td>3449.0</td>\n",
              "      <td>10.5</td>\n",
              "      <td>70</td>\n",
              "      <td>1</td>\n",
              "      <td>ford torino</td>\n",
              "    </tr>\n",
              "  </tbody>\n",
              "</table>\n",
              "</div>\n",
              "      <button class=\"colab-df-convert\" onclick=\"convertToInteractive('df-2f7cba8f-c29c-4816-8bd4-3d72bf0b6691')\"\n",
              "              title=\"Convert this dataframe to an interactive table.\"\n",
              "              style=\"display:none;\">\n",
              "        \n",
              "  <svg xmlns=\"http://www.w3.org/2000/svg\" height=\"24px\"viewBox=\"0 0 24 24\"\n",
              "       width=\"24px\">\n",
              "    <path d=\"M0 0h24v24H0V0z\" fill=\"none\"/>\n",
              "    <path d=\"M18.56 5.44l.94 2.06.94-2.06 2.06-.94-2.06-.94-.94-2.06-.94 2.06-2.06.94zm-11 1L8.5 8.5l.94-2.06 2.06-.94-2.06-.94L8.5 2.5l-.94 2.06-2.06.94zm10 10l.94 2.06.94-2.06 2.06-.94-2.06-.94-.94-2.06-.94 2.06-2.06.94z\"/><path d=\"M17.41 7.96l-1.37-1.37c-.4-.4-.92-.59-1.43-.59-.52 0-1.04.2-1.43.59L10.3 9.45l-7.72 7.72c-.78.78-.78 2.05 0 2.83L4 21.41c.39.39.9.59 1.41.59.51 0 1.02-.2 1.41-.59l7.78-7.78 2.81-2.81c.8-.78.8-2.07 0-2.86zM5.41 20L4 18.59l7.72-7.72 1.47 1.35L5.41 20z\"/>\n",
              "  </svg>\n",
              "      </button>\n",
              "      \n",
              "  <style>\n",
              "    .colab-df-container {\n",
              "      display:flex;\n",
              "      flex-wrap:wrap;\n",
              "      gap: 12px;\n",
              "    }\n",
              "\n",
              "    .colab-df-convert {\n",
              "      background-color: #E8F0FE;\n",
              "      border: none;\n",
              "      border-radius: 50%;\n",
              "      cursor: pointer;\n",
              "      display: none;\n",
              "      fill: #1967D2;\n",
              "      height: 32px;\n",
              "      padding: 0 0 0 0;\n",
              "      width: 32px;\n",
              "    }\n",
              "\n",
              "    .colab-df-convert:hover {\n",
              "      background-color: #E2EBFA;\n",
              "      box-shadow: 0px 1px 2px rgba(60, 64, 67, 0.3), 0px 1px 3px 1px rgba(60, 64, 67, 0.15);\n",
              "      fill: #174EA6;\n",
              "    }\n",
              "\n",
              "    [theme=dark] .colab-df-convert {\n",
              "      background-color: #3B4455;\n",
              "      fill: #D2E3FC;\n",
              "    }\n",
              "\n",
              "    [theme=dark] .colab-df-convert:hover {\n",
              "      background-color: #434B5C;\n",
              "      box-shadow: 0px 1px 3px 1px rgba(0, 0, 0, 0.15);\n",
              "      filter: drop-shadow(0px 1px 2px rgba(0, 0, 0, 0.3));\n",
              "      fill: #FFFFFF;\n",
              "    }\n",
              "  </style>\n",
              "\n",
              "      <script>\n",
              "        const buttonEl =\n",
              "          document.querySelector('#df-2f7cba8f-c29c-4816-8bd4-3d72bf0b6691 button.colab-df-convert');\n",
              "        buttonEl.style.display =\n",
              "          google.colab.kernel.accessAllowed ? 'block' : 'none';\n",
              "\n",
              "        async function convertToInteractive(key) {\n",
              "          const element = document.querySelector('#df-2f7cba8f-c29c-4816-8bd4-3d72bf0b6691');\n",
              "          const dataTable =\n",
              "            await google.colab.kernel.invokeFunction('convertToInteractive',\n",
              "                                                     [key], {});\n",
              "          if (!dataTable) return;\n",
              "\n",
              "          const docLinkHtml = 'Like what you see? Visit the ' +\n",
              "            '<a target=\"_blank\" href=https://colab.research.google.com/notebooks/data_table.ipynb>data table notebook</a>'\n",
              "            + ' to learn more about interactive tables.';\n",
              "          element.innerHTML = '';\n",
              "          dataTable['output_type'] = 'display_data';\n",
              "          await google.colab.output.renderOutput(dataTable, element);\n",
              "          const docLink = document.createElement('div');\n",
              "          docLink.innerHTML = docLinkHtml;\n",
              "          element.appendChild(docLink);\n",
              "        }\n",
              "      </script>\n",
              "    </div>\n",
              "  </div>\n",
              "  "
            ]
          },
          "metadata": {},
          "execution_count": 24
        }
      ],
      "source": [
        "df = pd.read_csv(\n",
        "    'https://cf-courses-data.s3.us.cloud-object-storage.appdomain.cloud/IBM-ML0187EN-SkillsNetwork/labs/module%202/auto-mpg.data',\n",
        "    header=None, delim_whitespace=True,\n",
        "    names=['mpg', 'cylinders', 'displacement', 'horsepower', 'weight', 'acceleration', 'model_year', 'origin', 'car_name'])\n",
        "df.head()"
      ]
    },
    {
      "cell_type": "markdown",
      "metadata": {
        "id": "encep92ENBjj"
      },
      "source": [
        "For this example we are only using the `\"mpg\"` and `\"weight\"` features:\n"
      ]
    },
    {
      "cell_type": "code",
      "execution_count": 25,
      "metadata": {
        "colab": {
          "base_uri": "https://localhost:8080/",
          "height": 206
        },
        "id": "A7TLmx9_NBjk",
        "outputId": "fd9c4ca8-1402-4a78-c990-c0b672d6443d"
      },
      "outputs": [
        {
          "output_type": "execute_result",
          "data": {
            "text/plain": [
              "    mpg  weight      make\n",
              "0  18.0  3504.0     chevy\n",
              "1  15.0  3693.0     buick\n",
              "2  18.0  3436.0  plymouth\n",
              "3  16.0  3433.0       amc\n",
              "4  17.0  3449.0      ford"
            ],
            "text/html": [
              "\n",
              "  <div id=\"df-259eeaff-b618-44ce-8799-f51b8d24b676\">\n",
              "    <div class=\"colab-df-container\">\n",
              "      <div>\n",
              "<style scoped>\n",
              "    .dataframe tbody tr th:only-of-type {\n",
              "        vertical-align: middle;\n",
              "    }\n",
              "\n",
              "    .dataframe tbody tr th {\n",
              "        vertical-align: top;\n",
              "    }\n",
              "\n",
              "    .dataframe thead th {\n",
              "        text-align: right;\n",
              "    }\n",
              "</style>\n",
              "<table border=\"1\" class=\"dataframe\">\n",
              "  <thead>\n",
              "    <tr style=\"text-align: right;\">\n",
              "      <th></th>\n",
              "      <th>mpg</th>\n",
              "      <th>weight</th>\n",
              "      <th>make</th>\n",
              "    </tr>\n",
              "  </thead>\n",
              "  <tbody>\n",
              "    <tr>\n",
              "      <th>0</th>\n",
              "      <td>18.0</td>\n",
              "      <td>3504.0</td>\n",
              "      <td>chevy</td>\n",
              "    </tr>\n",
              "    <tr>\n",
              "      <th>1</th>\n",
              "      <td>15.0</td>\n",
              "      <td>3693.0</td>\n",
              "      <td>buick</td>\n",
              "    </tr>\n",
              "    <tr>\n",
              "      <th>2</th>\n",
              "      <td>18.0</td>\n",
              "      <td>3436.0</td>\n",
              "      <td>plymouth</td>\n",
              "    </tr>\n",
              "    <tr>\n",
              "      <th>3</th>\n",
              "      <td>16.0</td>\n",
              "      <td>3433.0</td>\n",
              "      <td>amc</td>\n",
              "    </tr>\n",
              "    <tr>\n",
              "      <th>4</th>\n",
              "      <td>17.0</td>\n",
              "      <td>3449.0</td>\n",
              "      <td>ford</td>\n",
              "    </tr>\n",
              "  </tbody>\n",
              "</table>\n",
              "</div>\n",
              "      <button class=\"colab-df-convert\" onclick=\"convertToInteractive('df-259eeaff-b618-44ce-8799-f51b8d24b676')\"\n",
              "              title=\"Convert this dataframe to an interactive table.\"\n",
              "              style=\"display:none;\">\n",
              "        \n",
              "  <svg xmlns=\"http://www.w3.org/2000/svg\" height=\"24px\"viewBox=\"0 0 24 24\"\n",
              "       width=\"24px\">\n",
              "    <path d=\"M0 0h24v24H0V0z\" fill=\"none\"/>\n",
              "    <path d=\"M18.56 5.44l.94 2.06.94-2.06 2.06-.94-2.06-.94-.94-2.06-.94 2.06-2.06.94zm-11 1L8.5 8.5l.94-2.06 2.06-.94-2.06-.94L8.5 2.5l-.94 2.06-2.06.94zm10 10l.94 2.06.94-2.06 2.06-.94-2.06-.94-.94-2.06-.94 2.06-2.06.94z\"/><path d=\"M17.41 7.96l-1.37-1.37c-.4-.4-.92-.59-1.43-.59-.52 0-1.04.2-1.43.59L10.3 9.45l-7.72 7.72c-.78.78-.78 2.05 0 2.83L4 21.41c.39.39.9.59 1.41.59.51 0 1.02-.2 1.41-.59l7.78-7.78 2.81-2.81c.8-.78.8-2.07 0-2.86zM5.41 20L4 18.59l7.72-7.72 1.47 1.35L5.41 20z\"/>\n",
              "  </svg>\n",
              "      </button>\n",
              "      \n",
              "  <style>\n",
              "    .colab-df-container {\n",
              "      display:flex;\n",
              "      flex-wrap:wrap;\n",
              "      gap: 12px;\n",
              "    }\n",
              "\n",
              "    .colab-df-convert {\n",
              "      background-color: #E8F0FE;\n",
              "      border: none;\n",
              "      border-radius: 50%;\n",
              "      cursor: pointer;\n",
              "      display: none;\n",
              "      fill: #1967D2;\n",
              "      height: 32px;\n",
              "      padding: 0 0 0 0;\n",
              "      width: 32px;\n",
              "    }\n",
              "\n",
              "    .colab-df-convert:hover {\n",
              "      background-color: #E2EBFA;\n",
              "      box-shadow: 0px 1px 2px rgba(60, 64, 67, 0.3), 0px 1px 3px 1px rgba(60, 64, 67, 0.15);\n",
              "      fill: #174EA6;\n",
              "    }\n",
              "\n",
              "    [theme=dark] .colab-df-convert {\n",
              "      background-color: #3B4455;\n",
              "      fill: #D2E3FC;\n",
              "    }\n",
              "\n",
              "    [theme=dark] .colab-df-convert:hover {\n",
              "      background-color: #434B5C;\n",
              "      box-shadow: 0px 1px 3px 1px rgba(0, 0, 0, 0.15);\n",
              "      filter: drop-shadow(0px 1px 2px rgba(0, 0, 0, 0.3));\n",
              "      fill: #FFFFFF;\n",
              "    }\n",
              "  </style>\n",
              "\n",
              "      <script>\n",
              "        const buttonEl =\n",
              "          document.querySelector('#df-259eeaff-b618-44ce-8799-f51b8d24b676 button.colab-df-convert');\n",
              "        buttonEl.style.display =\n",
              "          google.colab.kernel.accessAllowed ? 'block' : 'none';\n",
              "\n",
              "        async function convertToInteractive(key) {\n",
              "          const element = document.querySelector('#df-259eeaff-b618-44ce-8799-f51b8d24b676');\n",
              "          const dataTable =\n",
              "            await google.colab.kernel.invokeFunction('convertToInteractive',\n",
              "                                                     [key], {});\n",
              "          if (!dataTable) return;\n",
              "\n",
              "          const docLinkHtml = 'Like what you see? Visit the ' +\n",
              "            '<a target=\"_blank\" href=https://colab.research.google.com/notebooks/data_table.ipynb>data table notebook</a>'\n",
              "            + ' to learn more about interactive tables.';\n",
              "          element.innerHTML = '';\n",
              "          dataTable['output_type'] = 'display_data';\n",
              "          await google.colab.output.renderOutput(dataTable, element);\n",
              "          const docLink = document.createElement('div');\n",
              "          docLink.innerHTML = docLinkHtml;\n",
              "          element.appendChild(docLink);\n",
              "        }\n",
              "      </script>\n",
              "    </div>\n",
              "  </div>\n",
              "  "
            ]
          },
          "metadata": {},
          "execution_count": 25
        }
      ],
      "source": [
        "df['car_name'] = df['car_name'].str.split(n=1).apply(lambda lst: lst[0]).replace('chevrolet', 'chevy')\n",
        "df.rename(columns={'car_name': 'make'}, inplace=True)\n",
        "df = df[['mpg', 'weight', 'make']]\n",
        "df.head()"
      ]
    },
    {
      "cell_type": "markdown",
      "metadata": {
        "id": "Xi-jeG17NBjl"
      },
      "source": [
        "**Normalize** the numerical data (important for cosine distance if you want features to have \"equal weight\")\n"
      ]
    },
    {
      "cell_type": "code",
      "execution_count": 26,
      "metadata": {
        "colab": {
          "base_uri": "https://localhost:8080/",
          "height": 206
        },
        "id": "BLlNJfsxNBjm",
        "outputId": "a01e52f6-0f64-40e7-c024-14dd0f2dfe53"
      },
      "outputs": [
        {
          "output_type": "execute_result",
          "data": {
            "text/plain": [
              "        mpg    weight      make\n",
              "0  0.239362  0.536150     chevy\n",
              "1  0.159574  0.589736     buick\n",
              "2  0.239362  0.516870  plymouth\n",
              "3  0.186170  0.516019       amc\n",
              "4  0.212766  0.520556      ford"
            ],
            "text/html": [
              "\n",
              "  <div id=\"df-5611e820-2b8a-4b93-8ed9-4cb27ec20fc3\">\n",
              "    <div class=\"colab-df-container\">\n",
              "      <div>\n",
              "<style scoped>\n",
              "    .dataframe tbody tr th:only-of-type {\n",
              "        vertical-align: middle;\n",
              "    }\n",
              "\n",
              "    .dataframe tbody tr th {\n",
              "        vertical-align: top;\n",
              "    }\n",
              "\n",
              "    .dataframe thead th {\n",
              "        text-align: right;\n",
              "    }\n",
              "</style>\n",
              "<table border=\"1\" class=\"dataframe\">\n",
              "  <thead>\n",
              "    <tr style=\"text-align: right;\">\n",
              "      <th></th>\n",
              "      <th>mpg</th>\n",
              "      <th>weight</th>\n",
              "      <th>make</th>\n",
              "    </tr>\n",
              "  </thead>\n",
              "  <tbody>\n",
              "    <tr>\n",
              "      <th>0</th>\n",
              "      <td>0.239362</td>\n",
              "      <td>0.536150</td>\n",
              "      <td>chevy</td>\n",
              "    </tr>\n",
              "    <tr>\n",
              "      <th>1</th>\n",
              "      <td>0.159574</td>\n",
              "      <td>0.589736</td>\n",
              "      <td>buick</td>\n",
              "    </tr>\n",
              "    <tr>\n",
              "      <th>2</th>\n",
              "      <td>0.239362</td>\n",
              "      <td>0.516870</td>\n",
              "      <td>plymouth</td>\n",
              "    </tr>\n",
              "    <tr>\n",
              "      <th>3</th>\n",
              "      <td>0.186170</td>\n",
              "      <td>0.516019</td>\n",
              "      <td>amc</td>\n",
              "    </tr>\n",
              "    <tr>\n",
              "      <th>4</th>\n",
              "      <td>0.212766</td>\n",
              "      <td>0.520556</td>\n",
              "      <td>ford</td>\n",
              "    </tr>\n",
              "  </tbody>\n",
              "</table>\n",
              "</div>\n",
              "      <button class=\"colab-df-convert\" onclick=\"convertToInteractive('df-5611e820-2b8a-4b93-8ed9-4cb27ec20fc3')\"\n",
              "              title=\"Convert this dataframe to an interactive table.\"\n",
              "              style=\"display:none;\">\n",
              "        \n",
              "  <svg xmlns=\"http://www.w3.org/2000/svg\" height=\"24px\"viewBox=\"0 0 24 24\"\n",
              "       width=\"24px\">\n",
              "    <path d=\"M0 0h24v24H0V0z\" fill=\"none\"/>\n",
              "    <path d=\"M18.56 5.44l.94 2.06.94-2.06 2.06-.94-2.06-.94-.94-2.06-.94 2.06-2.06.94zm-11 1L8.5 8.5l.94-2.06 2.06-.94-2.06-.94L8.5 2.5l-.94 2.06-2.06.94zm10 10l.94 2.06.94-2.06 2.06-.94-2.06-.94-.94-2.06-.94 2.06-2.06.94z\"/><path d=\"M17.41 7.96l-1.37-1.37c-.4-.4-.92-.59-1.43-.59-.52 0-1.04.2-1.43.59L10.3 9.45l-7.72 7.72c-.78.78-.78 2.05 0 2.83L4 21.41c.39.39.9.59 1.41.59.51 0 1.02-.2 1.41-.59l7.78-7.78 2.81-2.81c.8-.78.8-2.07 0-2.86zM5.41 20L4 18.59l7.72-7.72 1.47 1.35L5.41 20z\"/>\n",
              "  </svg>\n",
              "      </button>\n",
              "      \n",
              "  <style>\n",
              "    .colab-df-container {\n",
              "      display:flex;\n",
              "      flex-wrap:wrap;\n",
              "      gap: 12px;\n",
              "    }\n",
              "\n",
              "    .colab-df-convert {\n",
              "      background-color: #E8F0FE;\n",
              "      border: none;\n",
              "      border-radius: 50%;\n",
              "      cursor: pointer;\n",
              "      display: none;\n",
              "      fill: #1967D2;\n",
              "      height: 32px;\n",
              "      padding: 0 0 0 0;\n",
              "      width: 32px;\n",
              "    }\n",
              "\n",
              "    .colab-df-convert:hover {\n",
              "      background-color: #E2EBFA;\n",
              "      box-shadow: 0px 1px 2px rgba(60, 64, 67, 0.3), 0px 1px 3px 1px rgba(60, 64, 67, 0.15);\n",
              "      fill: #174EA6;\n",
              "    }\n",
              "\n",
              "    [theme=dark] .colab-df-convert {\n",
              "      background-color: #3B4455;\n",
              "      fill: #D2E3FC;\n",
              "    }\n",
              "\n",
              "    [theme=dark] .colab-df-convert:hover {\n",
              "      background-color: #434B5C;\n",
              "      box-shadow: 0px 1px 3px 1px rgba(0, 0, 0, 0.15);\n",
              "      filter: drop-shadow(0px 1px 2px rgba(0, 0, 0, 0.3));\n",
              "      fill: #FFFFFF;\n",
              "    }\n",
              "  </style>\n",
              "\n",
              "      <script>\n",
              "        const buttonEl =\n",
              "          document.querySelector('#df-5611e820-2b8a-4b93-8ed9-4cb27ec20fc3 button.colab-df-convert');\n",
              "        buttonEl.style.display =\n",
              "          google.colab.kernel.accessAllowed ? 'block' : 'none';\n",
              "\n",
              "        async function convertToInteractive(key) {\n",
              "          const element = document.querySelector('#df-5611e820-2b8a-4b93-8ed9-4cb27ec20fc3');\n",
              "          const dataTable =\n",
              "            await google.colab.kernel.invokeFunction('convertToInteractive',\n",
              "                                                     [key], {});\n",
              "          if (!dataTable) return;\n",
              "\n",
              "          const docLinkHtml = 'Like what you see? Visit the ' +\n",
              "            '<a target=\"_blank\" href=https://colab.research.google.com/notebooks/data_table.ipynb>data table notebook</a>'\n",
              "            + ' to learn more about interactive tables.';\n",
              "          element.innerHTML = '';\n",
              "          dataTable['output_type'] = 'display_data';\n",
              "          await google.colab.output.renderOutput(dataTable, element);\n",
              "          const docLink = document.createElement('div');\n",
              "          docLink.innerHTML = docLinkHtml;\n",
              "          element.appendChild(docLink);\n",
              "        }\n",
              "      </script>\n",
              "    </div>\n",
              "  </div>\n",
              "  "
            ]
          },
          "metadata": {},
          "execution_count": 26
        }
      ],
      "source": [
        "dfn = df[['mpg', 'weight']]\n",
        "df[['mpg', 'weight']] = (dfn-dfn.min())/(dfn.max()-dfn.min())\n",
        "df.head()"
      ]
    },
    {
      "cell_type": "markdown",
      "metadata": {
        "id": "doYvY_rpNBjo"
      },
      "source": [
        "Let's use *cosine* distance to compare chevy and honda makes from 1970 to 1982:\n"
      ]
    },
    {
      "cell_type": "code",
      "execution_count": 27,
      "metadata": {
        "colab": {
          "base_uri": "https://localhost:8080/",
          "height": 453
        },
        "id": "LlQ1B0y-NBjp",
        "outputId": "3841cd72-882a-4912-ff56-ae9e874a5e5b"
      },
      "outputs": [
        {
          "output_type": "display_data",
          "data": {
            "text/plain": [
              "<Figure size 640x480 with 1 Axes>"
            ],
            "image/png": "[encoded data removed]"
          },
          "metadata": {}
        }
      ],
      "source": [
        "chevy = df.loc[df['make'] == 'chevy']\n",
        "honda = df.loc[df['make'] == 'honda']\n",
        "\n",
        "plt.scatter(chevy['mpg'], chevy['weight'], marker='o', label='chevy')\n",
        "plt.scatter(honda['mpg'], honda['weight'], marker='^', label='honda')\n",
        "plt.xlabel('mpg')\n",
        "plt.ylabel('weight')\n",
        "plt.legend()\n",
        "plt.show()"
      ]
    },
    {
      "cell_type": "markdown",
      "metadata": {
        "id": "ANvQlrpYNBjq"
      },
      "source": [
        "Now let's analyze the data using *cosine* distance.\n"
      ]
    },
    {
      "cell_type": "code",
      "execution_count": 28,
      "metadata": {
        "id": "IPo6pnTQNBjr"
      },
      "outputs": [],
      "source": [
        "chevy_data = chevy[['mpg', 'weight']].to_numpy()\n",
        "honda_data = honda[['mpg', 'weight']].to_numpy()"
      ]
    },
    {
      "cell_type": "markdown",
      "metadata": {
        "id": "QaG7kTxdNBjs"
      },
      "source": [
        "The average *cosine* distance between **chevy** and **chevy** makes:\n"
      ]
    },
    {
      "cell_type": "code",
      "execution_count": 29,
      "metadata": {
        "colab": {
          "base_uri": "https://localhost:8080/"
        },
        "id": "cBTb43elNBjt",
        "outputId": "25abb839-a8ad-46e9-d219-fb42223d9ada"
      },
      "outputs": [
        {
          "output_type": "execute_result",
          "data": {
            "text/plain": [
              "0.1686029684688174"
            ]
          },
          "metadata": {},
          "execution_count": 29
        }
      ],
      "source": [
        "avg_distance(chevy_data, chevy_data, cosine)"
      ]
    },
    {
      "cell_type": "markdown",
      "metadata": {
        "id": "BgvMJ7I6NBju"
      },
      "source": [
        "The average *cosine* distance between **honda** and **honda** makes:\n"
      ]
    },
    {
      "cell_type": "code",
      "execution_count": 30,
      "metadata": {
        "colab": {
          "base_uri": "https://localhost:8080/"
        },
        "id": "vNxmVx70NBjv",
        "outputId": "ac83d23f-ad10-413c-dad5-fa32ed831442"
      },
      "outputs": [
        {
          "output_type": "execute_result",
          "data": {
            "text/plain": [
              "0.017557196207440316"
            ]
          },
          "metadata": {},
          "execution_count": 30
        }
      ],
      "source": [
        "avg_distance(honda_data, honda_data, cosine)"
      ]
    },
    {
      "cell_type": "markdown",
      "metadata": {
        "id": "21fA3RSZNBjx"
      },
      "source": [
        "The average *cosine* distance between **honda** and **chevy** makes:\n"
      ]
    },
    {
      "cell_type": "code",
      "execution_count": 31,
      "metadata": {
        "colab": {
          "base_uri": "https://localhost:8080/"
        },
        "id": "1zBc8YJNNBjy",
        "outputId": "3ab1ff63-aa49-4a96-e172-20109b1aa871"
      },
      "outputs": [
        {
          "output_type": "execute_result",
          "data": {
            "text/plain": [
              "0.3511900540950527"
            ]
          },
          "metadata": {},
          "execution_count": 31
        }
      ],
      "source": [
        "avg_distance(honda_data, chevy_data, cosine)"
      ]
    },
    {
      "cell_type": "markdown",
      "metadata": {
        "id": "J_W0Q2wgNBj0"
      },
      "source": [
        "We can also determine the  pairwise cosine distance  between two points using <code>cosine_distances</code> from <code>sklearn.metrics.pairwise</code>:\n"
      ]
    },
    {
      "cell_type": "code",
      "execution_count": 11,
      "metadata": {
        "id": "L9j5zd-YNBj0"
      },
      "outputs": [],
      "source": [
        "from sklearn.metrics.pairwise import cosine_distances"
      ]
    },
    {
      "cell_type": "code",
      "execution_count": 12,
      "metadata": {
        "colab": {
          "base_uri": "https://localhost:8080/"
        },
        "id": "UjnnNLWeNBj1",
        "outputId": "45264ccd-6a52-4feb-e06e-9ff5d9ad8e28"
      },
      "outputs": [
        {
          "output_type": "execute_result",
          "data": {
            "text/plain": [
              "array([[2.]])"
            ]
          },
          "metadata": {},
          "execution_count": 12
        }
      ],
      "source": [
        "X = np.array([[1, 1]])\n",
        "Y = np.array([[-1, -1]])\n",
        "cosine_distances(X, Y)"
      ]
    },
    {
      "cell_type": "markdown",
      "metadata": {
        "id": "r_E3CcVVNBj2"
      },
      "source": [
        "You can derive the cosine distance from the cosine similarity as follows\n",
        "\n",
        "**cosine_distance = 1 - cosine_similarity**\n"
      ]
    },
    {
      "cell_type": "code",
      "execution_count": 13,
      "metadata": {
        "colab": {
          "base_uri": "https://localhost:8080/"
        },
        "id": "5oDqUOMrNBj3",
        "outputId": "08be3525-887c-418b-c836-a96f7ac6d894"
      },
      "outputs": [
        {
          "output_type": "execute_result",
          "data": {
            "text/plain": [
              "array([[2.]])"
            ]
          },
          "metadata": {},
          "execution_count": 13
        }
      ],
      "source": [
        "from sklearn.metrics.pairwise import cosine_similarity\n",
        "1-cosine_similarity(X,Y)"
      ]
    },
    {
      "cell_type": "markdown",
      "metadata": {
        "id": "Cs5gI_leNBj4"
      },
      "source": [
        "The average pairwise *cosine* distance between **chevy** and **chevy** makes:\n"
      ]
    },
    {
      "cell_type": "code",
      "execution_count": 32,
      "metadata": {
        "colab": {
          "base_uri": "https://localhost:8080/"
        },
        "id": "kQImS8V7NBj5",
        "outputId": "b58fdf04-85a5-4175-fe67-c11511faeb9d"
      },
      "outputs": [
        {
          "output_type": "execute_result",
          "data": {
            "text/plain": [
              "0.1686029684688178"
            ]
          },
          "metadata": {},
          "execution_count": 32
        }
      ],
      "source": [
        "cosine_distances(chevy_data, chevy_data).mean()"
      ]
    },
    {
      "cell_type": "markdown",
      "metadata": {
        "id": "VpxB9kKQNBj6"
      },
      "source": [
        "between **honda** and **chevy** makes:\n"
      ]
    },
    {
      "cell_type": "code",
      "execution_count": null,
      "metadata": {
        "id": "pjMH80-rNBj7",
        "outputId": "94b43fbf-12cd-4550-f26c-d77bf2e04269"
      },
      "outputs": [
        {
          "data": {
            "text/plain": [
              "0.35119005409505294"
            ]
          },
          "execution_count": 51,
          "metadata": {},
          "output_type": "execute_result"
        }
      ],
      "source": [
        "cosine_distances(honda_data, chevy_data).mean()"
      ]
    },
    {
      "cell_type": "markdown",
      "metadata": {
        "id": "etNIcBirNBj8"
      },
      "source": [
        "## Analyzing Distance Metrics with DBSCAN\n",
        "\n",
        "Now that we've learned various ***numerical*** distance metrics, let's see how they affect a clustering algorithm.\n",
        "\n",
        "We begin by importing the `DBSCAN` object from `sklearn.neighbors` and downloading a synthetic dataset for clustering:\n"
      ]
    },
    {
      "cell_type": "code",
      "execution_count": null,
      "metadata": {
        "id": "kW1oywARNBj9",
        "outputId": "a9ff631e-b865-4f5f-9142-48a6c71127fd"
      },
      "outputs": [
        {
          "data": {
            "text/html": [
              "<div>\n",
              "<style scoped>\n",
              "    .dataframe tbody tr th:only-of-type {\n",
              "        vertical-align: middle;\n",
              "    }\n",
              "\n",
              "    .dataframe tbody tr th {\n",
              "        vertical-align: top;\n",
              "    }\n",
              "\n",
              "    .dataframe thead th {\n",
              "        text-align: right;\n",
              "    }\n",
              "</style>\n",
              "<table border=\"1\" class=\"dataframe\">\n",
              "  <thead>\n",
              "    <tr style=\"text-align: right;\">\n",
              "      <th></th>\n",
              "      <th>x</th>\n",
              "      <th>y</th>\n",
              "    </tr>\n",
              "  </thead>\n",
              "  <tbody>\n",
              "    <tr>\n",
              "      <th>0</th>\n",
              "      <td>-0.285980</td>\n",
              "      <td>1.149042</td>\n",
              "    </tr>\n",
              "    <tr>\n",
              "      <th>1</th>\n",
              "      <td>-0.296288</td>\n",
              "      <td>1.204223</td>\n",
              "    </tr>\n",
              "    <tr>\n",
              "      <th>2</th>\n",
              "      <td>-1.157672</td>\n",
              "      <td>-1.406545</td>\n",
              "    </tr>\n",
              "    <tr>\n",
              "      <th>3</th>\n",
              "      <td>-0.653802</td>\n",
              "      <td>-0.993525</td>\n",
              "    </tr>\n",
              "    <tr>\n",
              "      <th>4</th>\n",
              "      <td>1.347072</td>\n",
              "      <td>1.329942</td>\n",
              "    </tr>\n",
              "  </tbody>\n",
              "</table>\n",
              "</div>"
            ],
            "text/plain": [
              "          x         y\n",
              "0 -0.285980  1.149042\n",
              "1 -0.296288  1.204223\n",
              "2 -1.157672 -1.406545\n",
              "3 -0.653802 -0.993525\n",
              "4  1.347072  1.329942"
            ]
          },
          "execution_count": 52,
          "metadata": {},
          "output_type": "execute_result"
        }
      ],
      "source": [
        "from sklearn.cluster import DBSCAN\n",
        "df = pd.read_csv('https://cf-courses-data.s3.us.cloud-object-storage.appdomain.cloud/IBM-ML0187EN-SkillsNetwork/labs/module%202/data/synthetic_clustering.csv')\n",
        "df.head()"
      ]
    },
    {
      "cell_type": "code",
      "execution_count": null,
      "metadata": {
        "id": "cdLcbuWJNBj-",
        "outputId": "e15f0470-512c-47a8-9529-d9c867828fd2"
      },
      "outputs": [
        {
          "data": {
            "image/png": "[encoded data removed]",
            "text/plain": [
              "<Figure size 432x288 with 1 Axes>"
            ]
          },
          "metadata": {
            "needs_background": "light"
          },
          "output_type": "display_data"
        }
      ],
      "source": [
        "plt.scatter(df['x'], df['y'])\n",
        "plt.xlabel('x')\n",
        "plt.ylabel('y')\n",
        "plt.show()"
      ]
    },
    {
      "cell_type": "markdown",
      "metadata": {
        "id": "-AOpd4cGNBkA"
      },
      "source": [
        "#### DBSCAN using Euclidean:\n"
      ]
    },
    {
      "cell_type": "code",
      "execution_count": null,
      "metadata": {
        "id": "RdfmywyPNBkW",
        "outputId": "441c25c8-939a-413b-bea6-67937c5b9dac"
      },
      "outputs": [
        {
          "data": {
            "image/png": "[encoded data removed]",
            "text/plain": [
              "<Figure size 432x288 with 1 Axes>"
            ]
          },
          "metadata": {
            "needs_background": "light"
          },
          "output_type": "display_data"
        }
      ],
      "source": [
        "dbscan = DBSCAN(eps=0.1, metric=euclidean)\n",
        "dbscan.fit(df)\n",
        "colors = np.random.random(size=3*(dbscan.labels_.max()+1)).reshape(-1, 3)\n",
        "plt.scatter(df['x'], df['y'], c=[colors[l] for l in dbscan.labels_])\n",
        "plt.show()"
      ]
    },
    {
      "cell_type": "markdown",
      "metadata": {
        "id": "3E9KkaLxNBkX"
      },
      "source": [
        "#### DBSCAN using Manhattan:\n"
      ]
    },
    {
      "cell_type": "code",
      "execution_count": null,
      "metadata": {
        "id": "Z85X7msjNBkY",
        "outputId": "9776146a-ad44-40af-a6ea-b6cb51b0876d"
      },
      "outputs": [
        {
          "data": {
            "image/png": "[encoded data removed]",
            "text/plain": [
              "<Figure size 432x288 with 1 Axes>"
            ]
          },
          "metadata": {
            "needs_background": "light"
          },
          "output_type": "display_data"
        }
      ],
      "source": [
        "dbscan = DBSCAN(eps=0.1, metric=cityblock)\n",
        "dbscan.fit(df)\n",
        "colors = np.random.random(size=3*(dbscan.labels_.max()+1)).reshape(-1, 3)\n",
        "plt.scatter(df['x'], df['y'], c=[colors[l] for l in dbscan.labels_])\n",
        "plt.show()"
      ]
    },
    {
      "cell_type": "markdown",
      "metadata": {
        "id": "a4-qP1WeNBkZ"
      },
      "source": [
        "#### DBSCAN using Cosine:\n"
      ]
    },
    {
      "cell_type": "code",
      "execution_count": null,
      "metadata": {
        "id": "t1c6vBN5NBka",
        "outputId": "0c23ed44-5623-4ecf-af3a-8ec10fdf8d8f"
      },
      "outputs": [
        {
          "data": {
            "image/png": "[encoded data removed]",
            "text/plain": [
              "<Figure size 432x288 with 1 Axes>"
            ]
          },
          "metadata": {
            "needs_background": "light"
          },
          "output_type": "display_data"
        }
      ],
      "source": [
        "dbscan = DBSCAN(eps=0.1, metric=cosine)\n",
        "dbscan.fit(df)\n",
        "colors = np.random.random(size=3*(dbscan.labels_.max()+1)).reshape(-1, 3)\n",
        "plt.scatter(df['x'], df['y'], c=[colors[l] for l in dbscan.labels_])\n",
        "plt.show()"
      ]
    },
    {
      "cell_type": "markdown",
      "metadata": {
        "id": "sLi18jX7NBkb"
      },
      "source": [
        "Clearly, euclidean and manhattan distances have very similar results.\n",
        "\n",
        "However, using cosine distance, DBSCAN groups points based on their angle, leading to unique results which is some cases may be very useful.\n"
      ]
    },
    {
      "cell_type": "markdown",
      "metadata": {
        "id": "O0gmJ1DZNBkc"
      },
      "source": [
        "## Jaccard Distance\n"
      ]
    },
    {
      "cell_type": "markdown",
      "metadata": {
        "tags": [],
        "id": "lsB6nAOBNBkd"
      },
      "source": [
        "In this task, you will learn and practice applying Jaccard distance.\n",
        "\n",
        "The Jaccard distance is used to compute the dissimilarity/distance of two sets of objects.\n",
        "\n",
        "The Jaccard distance between two sets is a value in the range $[0, 1]$ where:\n",
        "\n",
        "*   $1$ means the two sets have nothing in common.\n",
        "*   $0$ means the two sets are identical.\n",
        "\n",
        "So **the greater the jaccard distance, the less similar the sets**.\n",
        "\n",
        "*Jaccard distance is useful when comparing two sets of (usually) non-numerical objects*\n",
        "\n",
        "### <a id='jaccard_GE'></a> General Equation\n",
        "\n",
        "The **general equation for the jaccard distance** between two sets $A$ and $B$ is:\n",
        "\n",
        "$$1 - \\frac{|A \\cap B|}{|A \\cup B|}$$\n",
        "\n",
        "*   $\\cap$ means \"set intersection\"\n",
        "*   $\\cup$ means \"union\"\n",
        "*   $| S |$ means the \"length of set $S$\"\n"
      ]
    },
    {
      "cell_type": "markdown",
      "metadata": {
        "id": "MU_r9EO_NBke"
      },
      "source": [
        "We can use `sklearn.metrics.jaccard_score` to compute the jaccard distance between categorical data.\n",
        "\n",
        "**NOTE**: `sklearn.metrics.jaccard_score` calculates the **jaccard similarity score**, which is **1 - jaccard distance**.\n"
      ]
    },
    {
      "cell_type": "code",
      "execution_count": null,
      "metadata": {
        "id": "ufkgW-AqNBkf"
      },
      "outputs": [],
      "source": [
        "from sklearn.metrics import jaccard_score"
      ]
    },
    {
      "cell_type": "markdown",
      "metadata": {
        "id": "LWXrZN8uNBkg"
      },
      "source": [
        "For this exercise, we will use a different dataset.\n",
        "\n",
        "Download the dataset `\"breast-cancer.data\"` which contains information about people diagnosed with breast cancer:\n"
      ]
    },
    {
      "cell_type": "code",
      "execution_count": null,
      "metadata": {
        "id": "u_YWFxAvNBkh",
        "outputId": "5fff94ce-cc64-4e32-d038-ef492e2e04f7"
      },
      "outputs": [
        {
          "data": {
            "text/html": [
              "<div>\n",
              "<style scoped>\n",
              "    .dataframe tbody tr th:only-of-type {\n",
              "        vertical-align: middle;\n",
              "    }\n",
              "\n",
              "    .dataframe tbody tr th {\n",
              "        vertical-align: top;\n",
              "    }\n",
              "\n",
              "    .dataframe thead th {\n",
              "        text-align: right;\n",
              "    }\n",
              "</style>\n",
              "<table border=\"1\" class=\"dataframe\">\n",
              "  <thead>\n",
              "    <tr style=\"text-align: right;\">\n",
              "      <th></th>\n",
              "      <th>Class</th>\n",
              "      <th>age</th>\n",
              "      <th>menopause</th>\n",
              "      <th>tumor-size</th>\n",
              "      <th>inv-nodes</th>\n",
              "      <th>node-caps</th>\n",
              "      <th>deg-malig</th>\n",
              "      <th>breast</th>\n",
              "      <th>breast-quad</th>\n",
              "      <th>irradiat</th>\n",
              "    </tr>\n",
              "  </thead>\n",
              "  <tbody>\n",
              "    <tr>\n",
              "      <th>0</th>\n",
              "      <td>no-recurrence-events</td>\n",
              "      <td>30-39</td>\n",
              "      <td>premeno</td>\n",
              "      <td>30-34</td>\n",
              "      <td>0-2</td>\n",
              "      <td>no</td>\n",
              "      <td>3</td>\n",
              "      <td>left</td>\n",
              "      <td>left_low</td>\n",
              "      <td>no</td>\n",
              "    </tr>\n",
              "    <tr>\n",
              "      <th>1</th>\n",
              "      <td>no-recurrence-events</td>\n",
              "      <td>40-49</td>\n",
              "      <td>premeno</td>\n",
              "      <td>20-24</td>\n",
              "      <td>0-2</td>\n",
              "      <td>no</td>\n",
              "      <td>2</td>\n",
              "      <td>right</td>\n",
              "      <td>right_up</td>\n",
              "      <td>no</td>\n",
              "    </tr>\n",
              "    <tr>\n",
              "      <th>2</th>\n",
              "      <td>no-recurrence-events</td>\n",
              "      <td>40-49</td>\n",
              "      <td>premeno</td>\n",
              "      <td>20-24</td>\n",
              "      <td>0-2</td>\n",
              "      <td>no</td>\n",
              "      <td>2</td>\n",
              "      <td>left</td>\n",
              "      <td>left_low</td>\n",
              "      <td>no</td>\n",
              "    </tr>\n",
              "    <tr>\n",
              "      <th>3</th>\n",
              "      <td>no-recurrence-events</td>\n",
              "      <td>60-69</td>\n",
              "      <td>ge40</td>\n",
              "      <td>15-19</td>\n",
              "      <td>0-2</td>\n",
              "      <td>no</td>\n",
              "      <td>2</td>\n",
              "      <td>right</td>\n",
              "      <td>left_up</td>\n",
              "      <td>no</td>\n",
              "    </tr>\n",
              "    <tr>\n",
              "      <th>4</th>\n",
              "      <td>no-recurrence-events</td>\n",
              "      <td>40-49</td>\n",
              "      <td>premeno</td>\n",
              "      <td>0-4</td>\n",
              "      <td>0-2</td>\n",
              "      <td>no</td>\n",
              "      <td>2</td>\n",
              "      <td>right</td>\n",
              "      <td>right_low</td>\n",
              "      <td>no</td>\n",
              "    </tr>\n",
              "  </tbody>\n",
              "</table>\n",
              "</div>"
            ],
            "text/plain": [
              "                  Class    age menopause tumor-size inv-nodes node-caps  \\\n",
              "0  no-recurrence-events  30-39   premeno      30-34       0-2        no   \n",
              "1  no-recurrence-events  40-49   premeno      20-24       0-2        no   \n",
              "2  no-recurrence-events  40-49   premeno      20-24       0-2        no   \n",
              "3  no-recurrence-events  60-69      ge40      15-19       0-2        no   \n",
              "4  no-recurrence-events  40-49   premeno        0-4       0-2        no   \n",
              "\n",
              "   deg-malig breast breast-quad irradiat  \n",
              "0          3   left    left_low       no  \n",
              "1          2  right    right_up       no  \n",
              "2          2   left    left_low       no  \n",
              "3          2  right     left_up       no  \n",
              "4          2  right   right_low       no  "
            ]
          },
          "execution_count": 65,
          "metadata": {},
          "output_type": "execute_result"
        }
      ],
      "source": [
        "df = pd.read_csv(\n",
        "    'https://cf-courses-data.s3.us.cloud-object-storage.appdomain.cloud/IBM-ML0187EN-SkillsNetwork/labs/module%202/breast-cancer.data',\n",
        "    header=None,\n",
        "    names=['Class', 'age', 'menopause', 'tumor-size', 'inv-nodes', 'node-caps', 'deg-malig', 'breast', 'breast-quad', 'irradiat'])\n",
        "df.head()"
      ]
    },
    {
      "cell_type": "markdown",
      "metadata": {
        "id": "NBEWE4ZONBki"
      },
      "source": [
        "Lets look at the unique age groups in this dataset:\n"
      ]
    },
    {
      "cell_type": "code",
      "execution_count": null,
      "metadata": {
        "id": "1wXS40jVNBkj",
        "outputId": "c1e26be4-8ea5-42b1-f9b3-61f54f511d23"
      },
      "outputs": [
        {
          "name": "stdout",
          "output_type": "stream",
          "text": [
            "['20-29', '30-39', '40-49', '50-59', '60-69', '70-79']\n",
            "50-59    96\n",
            "40-49    90\n",
            "60-69    57\n",
            "30-39    36\n",
            "70-79     6\n",
            "20-29     1\n",
            "Name: age, dtype: int64\n"
          ]
        }
      ],
      "source": [
        "print(sorted(df['age'].unique()))\n",
        "print(df.age.value_counts())"
      ]
    },
    {
      "cell_type": "markdown",
      "metadata": {
        "id": "vqU5uswrNBkk"
      },
      "source": [
        "As you can see, the data values are **categorical** rather than real numerical values.\n",
        "\n",
        "To obtain the **average jaccard distance** between two dataframes (**df1, df2**), we first need to convert the categorical variables into one-hot encoded (binary) variables. This allows us to easily compute the individual jaccard distance between each row in **df1** and other row in **df2**, since we could just view the rows as sets that contain 0's and 1's.\n",
        "\n",
        "We can achieve this using the `OneHotEncoder` from `sklearn.preprocessing`:\n"
      ]
    },
    {
      "cell_type": "code",
      "execution_count": null,
      "metadata": {
        "id": "5iIw0MpuNBkl"
      },
      "outputs": [],
      "source": [
        "from sklearn.preprocessing import OneHotEncoder\n",
        "\n",
        "OH = OneHotEncoder()"
      ]
    },
    {
      "cell_type": "code",
      "execution_count": null,
      "metadata": {
        "tags": [],
        "id": "qvbEC8s8NBkm",
        "outputId": "ebe1a92f-3f22-4fb0-eef9-1a63e84b95f8"
      },
      "outputs": [
        {
          "name": "stdout",
          "output_type": "stream",
          "text": [
            "By using onehot encoding, we obtained a 2d array with shape (286, 39) that only has value 0 and 1 \n"
          ]
        }
      ],
      "source": [
        "X = OH.fit_transform(df.loc[:, df.columns != 'age']).toarray()\n",
        "print(f\"By using onehot encoding, we obtained a 2d array with shape {X.shape} that only has value 0 and 1 \")"
      ]
    },
    {
      "cell_type": "markdown",
      "metadata": {
        "id": "s3gUGrvPNBkn"
      },
      "source": [
        "We will be analyzing the *Jaccard* distance of the set of people aged 30-39 and aged 60-69.\n"
      ]
    },
    {
      "cell_type": "code",
      "execution_count": null,
      "metadata": {
        "id": "WD0zhFKDNBkn",
        "outputId": "ad4df7c2-729b-46fe-f30b-cc34d2b25dc9"
      },
      "outputs": [
        {
          "data": {
            "text/plain": [
              "((36, 39), (57, 39))"
            ]
          },
          "execution_count": 69,
          "metadata": {},
          "output_type": "execute_result"
        }
      ],
      "source": [
        "X30to39 = X[df[df.age == '30-39'].index]\n",
        "X60to69 = X[df[df.age == '60-69'].index]\n",
        "\n",
        "X30to39.shape, X60to69.shape"
      ]
    },
    {
      "cell_type": "markdown",
      "metadata": {
        "id": "UtyTpzDaNBko"
      },
      "source": [
        "Average Jaccard distance between people aged **30-39** and **30-39**:\n"
      ]
    },
    {
      "cell_type": "code",
      "execution_count": null,
      "metadata": {
        "tags": [],
        "id": "-o7QfMUFNBko",
        "outputId": "e7f9e23e-ca66-4948-e2ac-cc8c29613d5f"
      },
      "outputs": [
        {
          "data": {
            "text/plain": [
              "0.6435631883548536"
            ]
          },
          "execution_count": 70,
          "metadata": {},
          "output_type": "execute_result"
        }
      ],
      "source": [
        "avg_distance(X30to39, X30to39, jaccard_score)"
      ]
    },
    {
      "cell_type": "markdown",
      "metadata": {
        "id": "BrsGuq3ZNBkp"
      },
      "source": [
        "Average Jaccard distance between people aged **60-69** and **60-69**:\n"
      ]
    },
    {
      "cell_type": "code",
      "execution_count": null,
      "metadata": {
        "id": "V9tfC_0KNBkp",
        "outputId": "d883b3a3-696a-4323-fedc-a03619358fed"
      },
      "outputs": [
        {
          "data": {
            "text/plain": [
              "0.6182114564956281"
            ]
          },
          "execution_count": 71,
          "metadata": {},
          "output_type": "execute_result"
        }
      ],
      "source": [
        "avg_distance(X60to69, X60to69, jaccard_score)"
      ]
    },
    {
      "cell_type": "markdown",
      "metadata": {
        "id": "8OnLDy_JNBkq"
      },
      "source": [
        "Average Jaccard distance between people aged **30-39** and **60-69**:\n"
      ]
    },
    {
      "cell_type": "code",
      "execution_count": null,
      "metadata": {
        "id": "5erEQLvtNBkr",
        "outputId": "7d4c041a-3f7a-4966-c864-cb1b767282ae"
      },
      "outputs": [
        {
          "data": {
            "text/plain": [
              "0.7324778699972173"
            ]
          },
          "execution_count": 72,
          "metadata": {},
          "output_type": "execute_result"
        }
      ],
      "source": [
        "avg_distance(X30to39, X60to69, jaccard_score)"
      ]
    },
    {
      "cell_type": "markdown",
      "metadata": {
        "id": "dOIu7B5TNBkr"
      },
      "source": [
        "Therefore, it seems there are some disparate trends between the 30-39 and 60-69 age groups.\n"
      ]
    },
    {
      "cell_type": "markdown",
      "metadata": {
        "id": "xCdMqIWJNBks"
      },
      "source": [
        "# Exercises\n"
      ]
    },
    {
      "cell_type": "markdown",
      "metadata": {
        "tags": [],
        "id": "nLIxjLkTNBks"
      },
      "source": [
        "## Exercise 1 - Jaccard distance\n"
      ]
    },
    {
      "cell_type": "code",
      "execution_count": 1,
      "metadata": {
        "id": "mAE0BtUONBkt"
      },
      "outputs": [],
      "source": [
        "# Find the jaccard distance between the words in the following two sentences:\n",
        "sentence1 = 'Hello everyone and welcome to distance metrics'\n",
        "sentence2 = 'Hello world and welcome to distance metrics'"
      ]
    },
    {
      "cell_type": "code",
      "execution_count": 4,
      "metadata": {
        "colab": {
          "base_uri": "https://localhost:8080/"
        },
        "id": "KWr_AccyNBku",
        "outputId": "e37a5726-ddfa-4b58-b9a7-88cf314e27b0"
      },
      "outputs": [
        {
          "output_type": "stream",
          "name": "stdout",
          "text": [
            "0.75\n"
          ]
        }
      ],
      "source": [
        "# # TODO\n",
        "# ans = # TODO\n",
        "x = set(sentence1.split())\n",
        "y = set(sentence2.split())\n",
        "ans = len(x.intersection(y)) / len(x.union(y))\n",
        "print(ans)"
      ]
    },
    {
      "cell_type": "markdown",
      "metadata": {
        "id": "TIVgiZ80NBku"
      },
      "source": [
        "<details>\n",
        "    <summary>Click here for Solution</summary>\n",
        "\n",
        "```python\n",
        "s1set = set(sentence1.split())\n",
        "s2set = set(sentence2.split())\n",
        "ans = len(s1set.intersection(s2set)) / len(s1set.union(s2set))\n",
        "```\n",
        "\n",
        "</details>\n"
      ]
    },
    {
      "cell_type": "markdown",
      "metadata": {
        "id": "dkc4GHJgNBkv"
      },
      "source": [
        "## Exercise 2 - Euclidean distance and manhattan distance\n"
      ]
    },
    {
      "cell_type": "code",
      "execution_count": 6,
      "metadata": {
        "id": "hrMbMUy2NBkw"
      },
      "outputs": [],
      "source": [
        "# Find the absolute value of the difference between the euclidean and manhattan distances of the two 3D points:\n",
        "import numpy as np\n",
        "import scipy.special\n",
        "p1 = np.array([4, -3, 1])\n",
        "p2 = np.array([-5, 1, -7])"
      ]
    },
    {
      "cell_type": "code",
      "execution_count": 8,
      "metadata": {
        "colab": {
          "base_uri": "https://localhost:8080/"
        },
        "id": "sIoAcGgMNBkx",
        "outputId": "b542dc7c-3a14-4d0d-90c5-58530eef3ef2"
      },
      "outputs": [
        {
          "output_type": "stream",
          "name": "stdout",
          "text": [
            "8.31142245955048\n"
          ]
        }
      ],
      "source": [
        "euclidean = scipy.spatial.distance.euclidean(p1, p2)\n",
        "manhattan = scipy.spatial.distance.cityblock(p1, p2)\n",
        "ans = abs(manhattan - euclidean)\n",
        "print(ans)"
      ]
    },
    {
      "cell_type": "markdown",
      "metadata": {
        "id": "cdaPXO0xNBky"
      },
      "source": [
        "<details>\n",
        "    <summary>Click here for Solution</summary>\n",
        "\n",
        "```python\n",
        "import scipy.special\n",
        "euclidean = scipy.spatial.distance.euclidean(p1, p2)\n",
        "manhattan = scipy.spatial.distance.cityblock(p1, p2)\n",
        "ans = abs(manhattan - euclidean)\n",
        "```\n",
        "\n",
        "</details>\n"
      ]
    },
    {
      "cell_type": "markdown",
      "metadata": {
        "id": "cCmBd98MNBky"
      },
      "source": [
        "## Exercise 3 - Cosine distance\n"
      ]
    },
    {
      "cell_type": "code",
      "execution_count": 9,
      "metadata": {
        "id": "n2_1XHs6NBkz"
      },
      "outputs": [],
      "source": [
        "# Find the cosine distance between the following two points:\n",
        "p1 = np.array([1, 2, 3]).reshape(1, -1)\n",
        "p2 = np.array([-2, -4, -6]).reshape(1, -1)"
      ]
    },
    {
      "cell_type": "code",
      "execution_count": 34,
      "metadata": {
        "colab": {
          "base_uri": "https://localhost:8080/"
        },
        "id": "fP6gZjt6NBk0",
        "outputId": "d12e49fc-8573-4c97-fe60-17d39834d0a4"
      },
      "outputs": [
        {
          "output_type": "stream",
          "name": "stdout",
          "text": [
            "[[2.]]\n"
          ]
        }
      ],
      "source": [
        "ans = cosine_distances(p1, p2)\n",
        "print(ans)"
      ]
    },
    {
      "cell_type": "markdown",
      "metadata": {
        "id": "hkiV8F9CNBk1"
      },
      "source": [
        "<details>\n",
        "    <summary>Click here for Solution</summary>\n",
        "\n",
        "```python\n",
        "ans = cosine_distances(p1, p2)\n",
        "```\n",
        "\n",
        "</details>\n"
      ]
    },
    {
      "cell_type": "markdown",
      "metadata": {
        "id": "a7G3Y1ayNBk3"
      },
      "source": [
        "## Exercise 4 - Using `sklearn.metrics.pairwise`\n"
      ]
    },
    {
      "cell_type": "markdown",
      "metadata": {
        "id": "tCzqfi5nNBk4"
      },
      "source": [
        "Use:\n",
        "\n",
        "*   [`sklearn.metrics.pairwise.paired_euclidean_distances`](https://scikit-learn.org/stable/modules/generated/sklearn.metrics.pairwise.paired_euclidean_distances.html?utm_medium=Exinfluencer&utm_source=Exinfluencer&utm_content=000026UJ&utm_term=10006555&utm_id=NA-SkillsNetwork-Channel-SkillsNetworkCoursesIBMML0187ENSkillsNetwork31430127-2022-01-01#sklearn.metrics.pairwise.paired_euclidean_distances)\n",
        "*   [`sklearn.metrics.pairwise.paired_manhattan_distances`](https://scikit-learn.org/stable/modules/generated/sklearn.metrics.pairwise.paired_manhattan_distances.html?utm_medium=Exinfluencer&utm_source=Exinfluencer&utm_content=000026UJ&utm_term=10006555&utm_id=NA-SkillsNetwork-Channel-SkillsNetworkCoursesIBMML0187ENSkillsNetwork31430127-2022-01-01#sklearn.metrics.pairwise.paired_manhattan_distances)\n",
        "\n",
        "to find the **pairwise** distance between the following two datasets:\n"
      ]
    },
    {
      "cell_type": "code",
      "execution_count": 35,
      "metadata": {
        "colab": {
          "base_uri": "https://localhost:8080/"
        },
        "id": "LGwTYfsyNBk4",
        "outputId": "08d9d178-3198-4c3e-8e2e-dd1454705f67"
      },
      "outputs": [
        {
          "output_type": "stream",
          "name": "stdout",
          "text": [
            "X1:\n",
            "[[0 1]\n",
            " [2 3]\n",
            " [4 5]\n",
            " [6 7]]\n",
            "X2:\n",
            "[[7 6]\n",
            " [5 4]\n",
            " [3 2]\n",
            " [1 0]]\n"
          ]
        }
      ],
      "source": [
        "X1 = np.arange(8).reshape(4, 2)\n",
        "X2 = np.arange(8)[::-1].reshape(4, 2)\n",
        "print(f'X1:\\n{X1}')\n",
        "print(f'X2:\\n{X2}')"
      ]
    },
    {
      "cell_type": "code",
      "execution_count": 36,
      "metadata": {
        "id": "XcTcia8mNBk5"
      },
      "outputs": [],
      "source": [
        "paired_euclidean = sklearn.metrics.pairwise.paired_euclidean_distances(X1, X2)\n",
        "paired_manhattan = sklearn.metrics.pairwise.paired_manhattan_distances(X1, X2)"
      ]
    },
    {
      "cell_type": "markdown",
      "metadata": {
        "id": "nmg_-T-DNBk6"
      },
      "source": [
        "<details>\n",
        "    <summary>Click here for Solution</summary>\n",
        "\n",
        "```python\n",
        "paired_euclidean = sklearn.metrics.pairwise.paired_euclidean_distances(X1, X2)\n",
        "paired_manhattan = sklearn.metrics.pairwise.paired_manhattan_distances(X1, X2)\n",
        "```\n",
        "\n",
        "</details>\n"
      ]
    },
    {
      "cell_type": "markdown",
      "metadata": {
        "id": "O9BbbYWENBk7"
      },
      "source": [
        "## Authors\n"
      ]
    },
    {
      "cell_type": "markdown",
      "metadata": {
        "id": "bmq73YdiNBk8"
      },
      "source": [
        "[Sam Prokopchuk](https://www.linkedin.com/in/sam-prokopchuk-1908b21a0/?utm_medium=Exinfluencer&utm_source=Exinfluencer&utm_content=000026UJ&utm_term=10006555&utm_id=NA-SkillsNetwork-Channel-SkillsNetworkCoursesIBMML0187ENSkillsNetwork31430127-2022-01-01)\n"
      ]
    },
    {
      "cell_type": "markdown",
      "metadata": {
        "id": "bcb1nAqWNBk9"
      },
      "source": [
        "### Other Contributors\n"
      ]
    },
    {
      "cell_type": "markdown",
      "metadata": {
        "id": "LFPfzBL0NBk9"
      },
      "source": [
        "[Roxanne Li](https://www.linkedin.com/in/roxanne-li/?utm_medium=Exinfluencer&utm_source=Exinfluencer&utm_content=000026UJ&utm_term=10006555&utm_id=NA-SkillsNetwork-Channel-SkillsNetworkCoursesIBMML0187ENSkillsNetwork31430127-2022-01-01) is a Data Science intern at IBM Skills Network, entering level-5 study in the Mathematics & Statistics undergraduate Coop program at McMaster University.\n"
      ]
    },
    {
      "cell_type": "markdown",
      "metadata": {
        "id": "Nczt0r4lNBk-"
      },
      "source": [
        "## Change Log\n"
      ]
    },
    {
      "cell_type": "markdown",
      "metadata": {
        "id": "oGc2YEUxNBk-"
      },
      "source": [
        "| Date (YYYY-MM-DD) | Version | Changed By     | Change Description          |\n",
        "| ----------------- | ------- | -------------- | --------------------------- |\n",
        "| 2021-12-20        | 0.1     | Sam Prokopchuk | Complete Exercises' content |\n",
        "| 2022-05-24        | 0.1     | Roxanne Li     | Review and edit             |\n",
        "| 2022-07-18        | 0.1     | Svitlana K     | Review and edit             |\n"
      ]
    },
    {
      "cell_type": "markdown",
      "metadata": {
        "id": "kOWmrWNvNBk_"
      },
      "source": [
        "Copyright © 2021 IBM Corporation. All rights reserved.\n"
      ]
    }
  ],
  "metadata": {
    "kernelspec": {
      "display_name": "Python 3",
      "language": "python",
      "name": "python3"
    },
    "language_info": {
      "codemirror_mode": {
        "name": "ipython",
        "version": 3
      },
      "file_extension": ".py",
      "mimetype": "text/x-python",
      "name": "python",
      "nbconvert_exporter": "python",
      "pygments_lexer": "ipython3",
      "version": "3.10.6"
    },
    "vscode": {
      "interpreter": {
        "hash": "916dbcbb3f70747c44a77c7bcd40155683ae19c65e1c03b4aa3499c5328201f1"
      }
    },
    "colab": {
      "provenance": [],
      "include_colab_link": true
    }
  },
  "nbformat": 4,
  "nbformat_minor": 0
}